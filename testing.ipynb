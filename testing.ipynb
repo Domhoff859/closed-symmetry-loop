{
 "cells": [
  {
   "cell_type": "code",
   "execution_count": 1,
   "metadata": {},
   "outputs": [
    {
     "name": "stdout",
     "output_type": "stream",
     "text": [
      "Importing Jupyter notebook from /home/jesse/bop/csl/xnp/xnp_numpy.ipynb\n"
     ]
    }
   ],
   "source": [
    "import tensorflow as tf\n",
    "\n",
    "from network.cnn_definition_paper import rgb255_to_obj_net \n",
    "from tensorflow.keras.layers import Lambda\n",
    "\n",
    "from xnp.xnp_tf_layers import MtMCreation, MtMEvaluation\n",
    "from reverse_op import PODestarisation\n",
    "\n",
    "from data_handling.model_info import load_model_info\n",
    "from data_handling import DataLoader\n",
    "\n",
    "bop_path  = '/export/jesse/BOP'\n",
    "dataset = 'tless'\n",
    "dataset_path = f'{bop_path}/{dataset}'\n",
    "\n",
    "results_path = '../results/'\n",
    "\n",
    "foreign_info = 'scene_maskrcnn_detections_syn+real_info.json'"
   ]
  },
  {
   "cell_type": "code",
   "execution_count": 3,
   "metadata": {
    "scrolled": true
   },
   "outputs": [
    {
     "name": "stdout",
     "output_type": "stream",
     "text": [
      "model_info for object 1:\n",
      "diameter : 63.5151\n",
      "mins : [-17.4958 -17.4958 -30.6   ]\n",
      "maxs : [17.4958 17.4958 30.6   ]\n",
      "symmetries_discrete : []\n",
      "symmetries_continuous : True\n",
      "WARNING:tensorflow:No training configuration found in save file, so the model was *not* compiled. Compile it manually.\n",
      "destarring as symmetries_continuous\n",
      "WARNING:tensorflow:Layer mt_m_evaluation is casting an input tensor from dtype float64 to the layer's dtype of float32, which is new behavior in TensorFlow 2.  The layer has dtype float32 because its dtype defaults to floatx.\n",
      "\n",
      "If you intended to run this layer in float32, you can safely ignore this warning. If in doubt, this warning is likely only an issue if you are porting a TensorFlow 1.X model to TensorFlow 2.\n",
      "\n",
      "To change all layers to have dtype float64 by default, call `tf.keras.backend.set_floatx('float64')`. To change just this layer, pass dtype='float64' to the layer constructor. If you are the author of this layer, you can disable autocasting by passing autocast=False to the base Layer constructor.\n",
      "\n",
      "WARNING:tensorflow:Layer add is casting an input tensor from dtype float64 to the layer's dtype of float32, which is new behavior in TensorFlow 2.  The layer has dtype float32 because its dtype defaults to floatx.\n",
      "\n",
      "If you intended to run this layer in float32, you can safely ignore this warning. If in doubt, this warning is likely only an issue if you are porting a TensorFlow 1.X model to TensorFlow 2.\n",
      "\n",
      "To change all layers to have dtype float64 by default, call `tf.keras.backend.set_floatx('float64')`. To change just this layer, pass dtype='float64' to the layer constructor. If you are the author of this layer, you can disable autocasting by passing autocast=False to the base Layer constructor.\n",
      "\n"
     ]
    },
    {
     "name": "stderr",
     "output_type": "stream",
     "text": [
      "100%|██████████| 20/20 [00:00<00:00, 662.24it/s]\n",
      "/home/jesse/python-virtual-environments/ud_ope/lib/python3.6/site-packages/tensorflow_addons/image/transform_ops.py:143: UserWarning: fill_value is not supported and is always 0 for TensorFlow < 2.4.0.\n",
      "  \"fill_value is not supported and is always 0 for TensorFlow < 2.4.0.\"\n"
     ]
    },
    {
     "name": "stdout",
     "output_type": "stream",
     "text": [
      "Found TEST foreign data for 1041 occurencies of object 1, where 1041 origined from primesense.\n",
      "destarring as symmetries_continuous\n",
      "1041/1041 [==============================] - 64s 62ms/step\n",
      "model_info for object 2:\n",
      "diameter : 66.1512\n",
      "mins : [-21.6448 -21.6448 -30.8511]\n",
      "maxs : [21.6448 21.6448 30.8511]\n",
      "symmetries_discrete : []\n",
      "symmetries_continuous : True\n",
      "WARNING:tensorflow:No training configuration found in save file, so the model was *not* compiled. Compile it manually.\n",
      "destarring as symmetries_continuous\n",
      "WARNING:tensorflow:Layer mt_m_evaluation_2 is casting an input tensor from dtype float64 to the layer's dtype of float32, which is new behavior in TensorFlow 2.  The layer has dtype float32 because its dtype defaults to floatx.\n",
      "\n",
      "If you intended to run this layer in float32, you can safely ignore this warning. If in doubt, this warning is likely only an issue if you are porting a TensorFlow 1.X model to TensorFlow 2.\n",
      "\n",
      "To change all layers to have dtype float64 by default, call `tf.keras.backend.set_floatx('float64')`. To change just this layer, pass dtype='float64' to the layer constructor. If you are the author of this layer, you can disable autocasting by passing autocast=False to the base Layer constructor.\n",
      "\n",
      "WARNING:tensorflow:Layer add_1 is casting an input tensor from dtype float64 to the layer's dtype of float32, which is new behavior in TensorFlow 2.  The layer has dtype float32 because its dtype defaults to floatx.\n",
      "\n",
      "If you intended to run this layer in float32, you can safely ignore this warning. If in doubt, this warning is likely only an issue if you are porting a TensorFlow 1.X model to TensorFlow 2.\n",
      "\n",
      "To change all layers to have dtype float64 by default, call `tf.keras.backend.set_floatx('float64')`. To change just this layer, pass dtype='float64' to the layer constructor. If you are the author of this layer, you can disable autocasting by passing autocast=False to the base Layer constructor.\n",
      "\n"
     ]
    },
    {
     "name": "stderr",
     "output_type": "stream",
     "text": [
      "100%|██████████| 20/20 [00:00<00:00, 581.30it/s]\n"
     ]
    },
    {
     "name": "stdout",
     "output_type": "stream",
     "text": [
      "Found TEST foreign data for 1362 occurencies of object 2, where 1362 origined from primesense.\n",
      "destarring as symmetries_continuous\n",
      "1362/1362 [==============================] - 85s 62ms/step\n",
      "model_info for object 3:\n",
      "diameter : 65.3491\n",
      "mins : [-23.8837 -23.8842 -30.8351]\n",
      "maxs : [23.879  23.8774 30.8351]\n",
      "symmetries_discrete : []\n",
      "symmetries_continuous : True\n",
      "WARNING:tensorflow:No training configuration found in save file, so the model was *not* compiled. Compile it manually.\n",
      "destarring as symmetries_continuous\n",
      "WARNING:tensorflow:Layer mt_m_evaluation_4 is casting an input tensor from dtype float64 to the layer's dtype of float32, which is new behavior in TensorFlow 2.  The layer has dtype float32 because its dtype defaults to floatx.\n",
      "\n",
      "If you intended to run this layer in float32, you can safely ignore this warning. If in doubt, this warning is likely only an issue if you are porting a TensorFlow 1.X model to TensorFlow 2.\n",
      "\n",
      "To change all layers to have dtype float64 by default, call `tf.keras.backend.set_floatx('float64')`. To change just this layer, pass dtype='float64' to the layer constructor. If you are the author of this layer, you can disable autocasting by passing autocast=False to the base Layer constructor.\n",
      "\n",
      "WARNING:tensorflow:Layer add_2 is casting an input tensor from dtype float64 to the layer's dtype of float32, which is new behavior in TensorFlow 2.  The layer has dtype float32 because its dtype defaults to floatx.\n",
      "\n",
      "If you intended to run this layer in float32, you can safely ignore this warning. If in doubt, this warning is likely only an issue if you are porting a TensorFlow 1.X model to TensorFlow 2.\n",
      "\n",
      "To change all layers to have dtype float64 by default, call `tf.keras.backend.set_floatx('float64')`. To change just this layer, pass dtype='float64' to the layer constructor. If you are the author of this layer, you can disable autocasting by passing autocast=False to the base Layer constructor.\n",
      "\n"
     ]
    },
    {
     "name": "stderr",
     "output_type": "stream",
     "text": [
      "100%|██████████| 20/20 [00:00<00:00, 653.35it/s]\n"
     ]
    },
    {
     "name": "stdout",
     "output_type": "stream",
     "text": [
      "Found TEST foreign data for 852 occurencies of object 3, where 852 origined from primesense.\n",
      "destarring as symmetries_continuous\n",
      "852/852 [==============================] - 54s 63ms/step\n",
      "model_info for object 4:\n",
      "diameter : 80.7257\n",
      "mins : [-19.9978 -19.9929 -39.    ]\n",
      "maxs : [19.9978 19.9929 39.    ]\n",
      "symmetries_discrete : []\n",
      "symmetries_continuous : True\n",
      "WARNING:tensorflow:No training configuration found in save file, so the model was *not* compiled. Compile it manually.\n",
      "destarring as symmetries_continuous\n",
      "WARNING:tensorflow:Layer mt_m_evaluation_6 is casting an input tensor from dtype float64 to the layer's dtype of float32, which is new behavior in TensorFlow 2.  The layer has dtype float32 because its dtype defaults to floatx.\n",
      "\n",
      "If you intended to run this layer in float32, you can safely ignore this warning. If in doubt, this warning is likely only an issue if you are porting a TensorFlow 1.X model to TensorFlow 2.\n",
      "\n",
      "To change all layers to have dtype float64 by default, call `tf.keras.backend.set_floatx('float64')`. To change just this layer, pass dtype='float64' to the layer constructor. If you are the author of this layer, you can disable autocasting by passing autocast=False to the base Layer constructor.\n",
      "\n",
      "WARNING:tensorflow:Layer add_3 is casting an input tensor from dtype float64 to the layer's dtype of float32, which is new behavior in TensorFlow 2.  The layer has dtype float32 because its dtype defaults to floatx.\n",
      "\n",
      "If you intended to run this layer in float32, you can safely ignore this warning. If in doubt, this warning is likely only an issue if you are porting a TensorFlow 1.X model to TensorFlow 2.\n",
      "\n",
      "To change all layers to have dtype float64 by default, call `tf.keras.backend.set_floatx('float64')`. To change just this layer, pass dtype='float64' to the layer constructor. If you are the author of this layer, you can disable autocasting by passing autocast=False to the base Layer constructor.\n",
      "\n"
     ]
    },
    {
     "name": "stderr",
     "output_type": "stream",
     "text": [
      "100%|██████████| 20/20 [00:00<00:00, 705.51it/s]\n"
     ]
    },
    {
     "name": "stdout",
     "output_type": "stream",
     "text": [
      "Found TEST foreign data for 611 occurencies of object 4, where 611 origined from primesense.\n",
      "destarring as symmetries_continuous\n",
      "611/611 [==============================] - 39s 63ms/step\n",
      "model_info for object 5:\n",
      "diameter : 108.69\n",
      "mins : [-47.5  -26.75 -29.5 ]\n",
      "maxs : [47.5  26.75 29.5 ]\n",
      "symmetries_discrete : [array([[-1.00000e+00, -4.63077e-14,  0.00000e+00,  0.00000e+00],\n",
      "       [ 4.63077e-14, -1.00000e+00,  0.00000e+00,  0.00000e+00],\n",
      "       [ 0.00000e+00,  0.00000e+00,  1.00000e+00,  0.00000e+00],\n",
      "       [ 0.00000e+00,  0.00000e+00,  0.00000e+00,  1.00000e+00]])]\n",
      "symmetries_continuous : False\n",
      "WARNING:tensorflow:No training configuration found in save file, so the model was *not* compiled. Compile it manually.\n",
      "destarring as symmetries_discrete with z_factor= 2\n",
      "generate ref samples discrete symmetries with z_factor= 2\n",
      "Tensor(\"BatchGatherND/Reshape_5:0\", shape=(None, 15, 3, 8, 3), dtype=float32)\n",
      "po_ was corrected by [-0. -0. -0.]\n",
      "WARNING:tensorflow:Layer mt_m_evaluation_8 is casting an input tensor from dtype float64 to the layer's dtype of float32, which is new behavior in TensorFlow 2.  The layer has dtype float32 because its dtype defaults to floatx.\n",
      "\n",
      "If you intended to run this layer in float32, you can safely ignore this warning. If in doubt, this warning is likely only an issue if you are porting a TensorFlow 1.X model to TensorFlow 2.\n",
      "\n",
      "To change all layers to have dtype float64 by default, call `tf.keras.backend.set_floatx('float64')`. To change just this layer, pass dtype='float64' to the layer constructor. If you are the author of this layer, you can disable autocasting by passing autocast=False to the base Layer constructor.\n",
      "\n",
      "WARNING:tensorflow:Layer add_4 is casting an input tensor from dtype float64 to the layer's dtype of float32, which is new behavior in TensorFlow 2.  The layer has dtype float32 because its dtype defaults to floatx.\n",
      "\n",
      "If you intended to run this layer in float32, you can safely ignore this warning. If in doubt, this warning is likely only an issue if you are porting a TensorFlow 1.X model to TensorFlow 2.\n",
      "\n",
      "To change all layers to have dtype float64 by default, call `tf.keras.backend.set_floatx('float64')`. To change just this layer, pass dtype='float64' to the layer constructor. If you are the author of this layer, you can disable autocasting by passing autocast=False to the base Layer constructor.\n",
      "\n"
     ]
    },
    {
     "name": "stderr",
     "output_type": "stream",
     "text": [
      "100%|██████████| 20/20 [00:00<00:00, 777.61it/s]\n"
     ]
    },
    {
     "name": "stdout",
     "output_type": "stream",
     "text": [
      "Found TEST foreign data for 337 occurencies of object 5, where 337 origined from primesense.\n",
      "destarring as symmetries_discrete with z_factor= 2\n",
      "po_ was corrected by [-0. -0. -0.]\n",
      "337/337 [==============================] - 22s 65ms/step\n",
      "model_info for object 6:\n",
      "diameter : 108.265\n",
      "mins : [-44.7  -25.   -27.75]\n",
      "maxs : [44.7  25.   27.75]\n",
      "symmetries_discrete : [array([[-1.00000e+00, -4.63077e-14,  0.00000e+00,  0.00000e+00],\n",
      "       [ 4.63077e-14, -1.00000e+00,  0.00000e+00,  0.00000e+00],\n",
      "       [ 0.00000e+00,  0.00000e+00,  1.00000e+00,  0.00000e+00],\n",
      "       [ 0.00000e+00,  0.00000e+00,  0.00000e+00,  1.00000e+00]])]\n",
      "symmetries_continuous : False\n",
      "WARNING:tensorflow:No training configuration found in save file, so the model was *not* compiled. Compile it manually.\n",
      "destarring as symmetries_discrete with z_factor= 2\n",
      "generate ref samples discrete symmetries with z_factor= 2\n",
      "Tensor(\"BatchGatherND/Reshape_5:0\", shape=(None, 15, 3, 8, 3), dtype=float32)\n",
      "po_ was corrected by [-0. -0. -0.]\n",
      "WARNING:tensorflow:Layer mt_m_evaluation_10 is casting an input tensor from dtype float64 to the layer's dtype of float32, which is new behavior in TensorFlow 2.  The layer has dtype float32 because its dtype defaults to floatx.\n",
      "\n",
      "If you intended to run this layer in float32, you can safely ignore this warning. If in doubt, this warning is likely only an issue if you are porting a TensorFlow 1.X model to TensorFlow 2.\n",
      "\n",
      "To change all layers to have dtype float64 by default, call `tf.keras.backend.set_floatx('float64')`. To change just this layer, pass dtype='float64' to the layer constructor. If you are the author of this layer, you can disable autocasting by passing autocast=False to the base Layer constructor.\n",
      "\n",
      "WARNING:tensorflow:Layer add_5 is casting an input tensor from dtype float64 to the layer's dtype of float32, which is new behavior in TensorFlow 2.  The layer has dtype float32 because its dtype defaults to floatx.\n",
      "\n",
      "If you intended to run this layer in float32, you can safely ignore this warning. If in doubt, this warning is likely only an issue if you are porting a TensorFlow 1.X model to TensorFlow 2.\n",
      "\n",
      "To change all layers to have dtype float64 by default, call `tf.keras.backend.set_floatx('float64')`. To change just this layer, pass dtype='float64' to the layer constructor. If you are the author of this layer, you can disable autocasting by passing autocast=False to the base Layer constructor.\n",
      "\n"
     ]
    },
    {
     "name": "stderr",
     "output_type": "stream",
     "text": [
      "100%|██████████| 20/20 [00:00<00:00, 788.88it/s]\n"
     ]
    },
    {
     "name": "stdout",
     "output_type": "stream",
     "text": [
      "Found TEST foreign data for 320 occurencies of object 6, where 320 origined from primesense.\n",
      "destarring as symmetries_discrete with z_factor= 2\n",
      "po_ was corrected by [-0. -0. -0.]\n",
      "320/320 [==============================] - 21s 64ms/step\n",
      "model_info for object 7:\n",
      "diameter : 178.615\n",
      "mins : [-75.   -44.7  -30.75]\n",
      "maxs : [75.   44.7  30.75]\n",
      "symmetries_discrete : [array([[-1.00000e+00, -4.63077e-14,  0.00000e+00,  0.00000e+00],\n",
      "       [ 4.63077e-14, -1.00000e+00,  0.00000e+00,  0.00000e+00],\n",
      "       [ 0.00000e+00,  0.00000e+00,  1.00000e+00,  0.00000e+00],\n",
      "       [ 0.00000e+00,  0.00000e+00,  0.00000e+00,  1.00000e+00]])]\n",
      "symmetries_continuous : False\n",
      "WARNING:tensorflow:No training configuration found in save file, so the model was *not* compiled. Compile it manually.\n",
      "destarring as symmetries_discrete with z_factor= 2\n",
      "generate ref samples discrete symmetries with z_factor= 2\n",
      "Tensor(\"BatchGatherND/Reshape_5:0\", shape=(None, 15, 3, 8, 3), dtype=float32)\n",
      "po_ was corrected by [-0. -0. -0.]\n",
      "WARNING:tensorflow:Layer mt_m_evaluation_12 is casting an input tensor from dtype float64 to the layer's dtype of float32, which is new behavior in TensorFlow 2.  The layer has dtype float32 because its dtype defaults to floatx.\n",
      "\n",
      "If you intended to run this layer in float32, you can safely ignore this warning. If in doubt, this warning is likely only an issue if you are porting a TensorFlow 1.X model to TensorFlow 2.\n",
      "\n",
      "To change all layers to have dtype float64 by default, call `tf.keras.backend.set_floatx('float64')`. To change just this layer, pass dtype='float64' to the layer constructor. If you are the author of this layer, you can disable autocasting by passing autocast=False to the base Layer constructor.\n",
      "\n",
      "WARNING:tensorflow:Layer add_6 is casting an input tensor from dtype float64 to the layer's dtype of float32, which is new behavior in TensorFlow 2.  The layer has dtype float32 because its dtype defaults to floatx.\n",
      "\n",
      "If you intended to run this layer in float32, you can safely ignore this warning. If in doubt, this warning is likely only an issue if you are porting a TensorFlow 1.X model to TensorFlow 2.\n",
      "\n",
      "To change all layers to have dtype float64 by default, call `tf.keras.backend.set_floatx('float64')`. To change just this layer, pass dtype='float64' to the layer constructor. If you are the author of this layer, you can disable autocasting by passing autocast=False to the base Layer constructor.\n",
      "\n"
     ]
    },
    {
     "name": "stderr",
     "output_type": "stream",
     "text": [
      "100%|██████████| 20/20 [00:00<00:00, 472.51it/s]\n"
     ]
    },
    {
     "name": "stdout",
     "output_type": "stream",
     "text": [
      "Found TEST foreign data for 2721 occurencies of object 7, where 2721 origined from primesense.\n",
      "destarring as symmetries_discrete with z_factor= 2\n",
      "po_ was corrected by [-0. -0. -0.]\n",
      "2721/2721 [==============================] - 176s 65ms/step\n",
      "model_info for object 8:\n",
      "diameter : 217.156\n",
      "mins : [-93.0393 -52.6672 -30.0073]\n",
      "maxs : [93.0397 52.6668 30.0073]\n",
      "symmetries_discrete : [array([[-1.00000e+00,  2.70407e-06, -5.75524e-05, -2.66153e-02],\n",
      "       [-2.68381e-06, -1.00000e+00, -3.52012e-04, -9.26988e-02],\n",
      "       [-5.75534e-05, -3.52012e-04,  1.00000e+00, -5.29696e-05],\n",
      "       [ 0.00000e+00,  0.00000e+00,  0.00000e+00,  1.00000e+00]])]\n",
      "symmetries_continuous : False\n",
      "WARNING:tensorflow:No training configuration found in save file, so the model was *not* compiled. Compile it manually.\n",
      "destarring as symmetries_discrete with z_factor= 2\n",
      "generate ref samples discrete symmetries with z_factor= 2\n",
      "Tensor(\"BatchGatherND/Reshape_5:0\", shape=(None, 15, 3, 8, 3), dtype=float32)\n",
      "po_ was corrected by [1.330765e-02 4.634940e-02 2.648480e-05]\n",
      "WARNING:tensorflow:Layer mt_m_evaluation_14 is casting an input tensor from dtype float64 to the layer's dtype of float32, which is new behavior in TensorFlow 2.  The layer has dtype float32 because its dtype defaults to floatx.\n",
      "\n",
      "If you intended to run this layer in float32, you can safely ignore this warning. If in doubt, this warning is likely only an issue if you are porting a TensorFlow 1.X model to TensorFlow 2.\n",
      "\n",
      "To change all layers to have dtype float64 by default, call `tf.keras.backend.set_floatx('float64')`. To change just this layer, pass dtype='float64' to the layer constructor. If you are the author of this layer, you can disable autocasting by passing autocast=False to the base Layer constructor.\n",
      "\n",
      "WARNING:tensorflow:Layer add_7 is casting an input tensor from dtype float64 to the layer's dtype of float32, which is new behavior in TensorFlow 2.  The layer has dtype float32 because its dtype defaults to floatx.\n",
      "\n",
      "If you intended to run this layer in float32, you can safely ignore this warning. If in doubt, this warning is likely only an issue if you are porting a TensorFlow 1.X model to TensorFlow 2.\n",
      "\n",
      "To change all layers to have dtype float64 by default, call `tf.keras.backend.set_floatx('float64')`. To change just this layer, pass dtype='float64' to the layer constructor. If you are the author of this layer, you can disable autocasting by passing autocast=False to the base Layer constructor.\n",
      "\n"
     ]
    },
    {
     "name": "stderr",
     "output_type": "stream",
     "text": [
      "100%|██████████| 20/20 [00:00<00:00, 777.82it/s]\n"
     ]
    },
    {
     "name": "stdout",
     "output_type": "stream",
     "text": [
      "Found TEST foreign data for 334 occurencies of object 8, where 334 origined from primesense.\n",
      "destarring as symmetries_discrete with z_factor= 2\n",
      "po_ was corrected by [1.330765e-02 4.634940e-02 2.648480e-05]\n",
      "334/334 [==============================] - 22s 65ms/step\n",
      "model_info for object 9:\n",
      "diameter : 144.546\n",
      "mins : [-60.625 -39.25  -31.349]\n",
      "maxs : [60.625 39.25  31.349]\n",
      "symmetries_discrete : [array([[-1.00000e+00, -4.63077e-14,  0.00000e+00,  0.00000e+00],\n",
      "       [ 4.63077e-14, -1.00000e+00,  0.00000e+00,  0.00000e+00],\n",
      "       [ 0.00000e+00,  0.00000e+00,  1.00000e+00,  0.00000e+00],\n",
      "       [ 0.00000e+00,  0.00000e+00,  0.00000e+00,  1.00000e+00]])]\n",
      "symmetries_continuous : False\n",
      "WARNING:tensorflow:No training configuration found in save file, so the model was *not* compiled. Compile it manually.\n",
      "destarring as symmetries_discrete with z_factor= 2\n",
      "generate ref samples discrete symmetries with z_factor= 2\n",
      "Tensor(\"BatchGatherND/Reshape_5:0\", shape=(None, 15, 3, 8, 3), dtype=float32)\n",
      "po_ was corrected by [-0. -0. -0.]\n",
      "WARNING:tensorflow:Layer mt_m_evaluation_16 is casting an input tensor from dtype float64 to the layer's dtype of float32, which is new behavior in TensorFlow 2.  The layer has dtype float32 because its dtype defaults to floatx.\n",
      "\n",
      "If you intended to run this layer in float32, you can safely ignore this warning. If in doubt, this warning is likely only an issue if you are porting a TensorFlow 1.X model to TensorFlow 2.\n",
      "\n",
      "To change all layers to have dtype float64 by default, call `tf.keras.backend.set_floatx('float64')`. To change just this layer, pass dtype='float64' to the layer constructor. If you are the author of this layer, you can disable autocasting by passing autocast=False to the base Layer constructor.\n",
      "\n",
      "WARNING:tensorflow:Layer add_8 is casting an input tensor from dtype float64 to the layer's dtype of float32, which is new behavior in TensorFlow 2.  The layer has dtype float32 because its dtype defaults to floatx.\n",
      "\n",
      "If you intended to run this layer in float32, you can safely ignore this warning. If in doubt, this warning is likely only an issue if you are porting a TensorFlow 1.X model to TensorFlow 2.\n",
      "\n",
      "To change all layers to have dtype float64 by default, call `tf.keras.backend.set_floatx('float64')`. To change just this layer, pass dtype='float64' to the layer constructor. If you are the author of this layer, you can disable autocasting by passing autocast=False to the base Layer constructor.\n",
      "\n"
     ]
    },
    {
     "name": "stderr",
     "output_type": "stream",
     "text": [
      "100%|██████████| 20/20 [00:00<00:00, 789.16it/s]\n"
     ]
    },
    {
     "name": "stdout",
     "output_type": "stream",
     "text": [
      "Found TEST foreign data for 336 occurencies of object 9, where 336 origined from primesense.\n",
      "destarring as symmetries_discrete with z_factor= 2\n",
      "po_ was corrected by [-0. -0. -0.]\n",
      "336/336 [==============================] - 22s 65ms/step\n",
      "model_info for object 10:\n",
      "diameter : 90.2112\n",
      "mins : [-40.3299 -21.0036 -31.7513]\n",
      "maxs : [40.3299 21.0036 31.7513]\n",
      "symmetries_discrete : [array([[-9.99937e-01,  1.91896e-04,  1.12480e-02, -1.43745e-01],\n",
      "       [ 1.91922e-04, -9.99418e-01,  3.41122e-02, -5.17981e-01],\n",
      "       [ 1.12480e-02,  3.41122e-02,  9.99355e-01,  9.64629e-03],\n",
      "       [ 0.00000e+00,  0.00000e+00,  0.00000e+00,  1.00000e+00]])]\n",
      "symmetries_continuous : False\n",
      "WARNING:tensorflow:No training configuration found in save file, so the model was *not* compiled. Compile it manually.\n",
      "destarring as symmetries_discrete with z_factor= 2\n",
      "generate ref samples discrete symmetries with z_factor= 2\n",
      "Tensor(\"BatchGatherND/Reshape_5:0\", shape=(None, 15, 3, 8, 3), dtype=float32)\n",
      "po_ was corrected by [ 0.0718725   0.2589905  -0.00482315]\n",
      "WARNING:tensorflow:Layer mt_m_evaluation_18 is casting an input tensor from dtype float64 to the layer's dtype of float32, which is new behavior in TensorFlow 2.  The layer has dtype float32 because its dtype defaults to floatx.\n",
      "\n",
      "If you intended to run this layer in float32, you can safely ignore this warning. If in doubt, this warning is likely only an issue if you are porting a TensorFlow 1.X model to TensorFlow 2.\n",
      "\n",
      "To change all layers to have dtype float64 by default, call `tf.keras.backend.set_floatx('float64')`. To change just this layer, pass dtype='float64' to the layer constructor. If you are the author of this layer, you can disable autocasting by passing autocast=False to the base Layer constructor.\n",
      "\n",
      "WARNING:tensorflow:Layer add_9 is casting an input tensor from dtype float64 to the layer's dtype of float32, which is new behavior in TensorFlow 2.  The layer has dtype float32 because its dtype defaults to floatx.\n",
      "\n",
      "If you intended to run this layer in float32, you can safely ignore this warning. If in doubt, this warning is likely only an issue if you are porting a TensorFlow 1.X model to TensorFlow 2.\n",
      "\n",
      "To change all layers to have dtype float64 by default, call `tf.keras.backend.set_floatx('float64')`. To change just this layer, pass dtype='float64' to the layer constructor. If you are the author of this layer, you can disable autocasting by passing autocast=False to the base Layer constructor.\n",
      "\n"
     ]
    },
    {
     "name": "stderr",
     "output_type": "stream",
     "text": [
      "100%|██████████| 20/20 [00:00<00:00, 768.65it/s]\n"
     ]
    },
    {
     "name": "stdout",
     "output_type": "stream",
     "text": [
      "Found TEST foreign data for 339 occurencies of object 10, where 339 origined from primesense.\n",
      "destarring as symmetries_discrete with z_factor= 2\n",
      "po_ was corrected by [ 0.0718725   0.2589905  -0.00482315]\n",
      "339/339 [==============================] - 22s 65ms/step\n",
      "model_info for object 11:\n",
      "diameter : 76.5978\n",
      "mins : [-33.1456 -24.121  -27.65  ]\n",
      "maxs : [33.1456 24.121  27.65  ]\n",
      "symmetries_discrete : [array([[-1.00000e+00,  4.05208e-09,  1.93842e-08,  2.01636e-05],\n",
      "       [-4.05207e-09, -1.00000e+00,  1.83953e-07, -1.63209e-04],\n",
      "       [ 1.93842e-08,  1.83953e-07,  1.00000e+00,  2.10486e-08],\n",
      "       [ 0.00000e+00,  0.00000e+00,  0.00000e+00,  1.00000e+00]])]\n",
      "symmetries_continuous : False\n",
      "WARNING:tensorflow:No training configuration found in save file, so the model was *not* compiled. Compile it manually.\n",
      "destarring as symmetries_discrete with z_factor= 2\n",
      "generate ref samples discrete symmetries with z_factor= 2\n",
      "Tensor(\"BatchGatherND/Reshape_5:0\", shape=(None, 15, 3, 8, 3), dtype=float32)\n",
      "po_ was corrected by [-1.00818e-05  8.16045e-05 -1.05243e-08]\n",
      "WARNING:tensorflow:Layer mt_m_evaluation_20 is casting an input tensor from dtype float64 to the layer's dtype of float32, which is new behavior in TensorFlow 2.  The layer has dtype float32 because its dtype defaults to floatx.\n",
      "\n",
      "If you intended to run this layer in float32, you can safely ignore this warning. If in doubt, this warning is likely only an issue if you are porting a TensorFlow 1.X model to TensorFlow 2.\n",
      "\n",
      "To change all layers to have dtype float64 by default, call `tf.keras.backend.set_floatx('float64')`. To change just this layer, pass dtype='float64' to the layer constructor. If you are the author of this layer, you can disable autocasting by passing autocast=False to the base Layer constructor.\n",
      "\n",
      "WARNING:tensorflow:Layer add_10 is casting an input tensor from dtype float64 to the layer's dtype of float32, which is new behavior in TensorFlow 2.  The layer has dtype float32 because its dtype defaults to floatx.\n",
      "\n",
      "If you intended to run this layer in float32, you can safely ignore this warning. If in doubt, this warning is likely only an issue if you are porting a TensorFlow 1.X model to TensorFlow 2.\n",
      "\n",
      "To change all layers to have dtype float64 by default, call `tf.keras.backend.set_floatx('float64')`. To change just this layer, pass dtype='float64' to the layer constructor. If you are the author of this layer, you can disable autocasting by passing autocast=False to the base Layer constructor.\n",
      "\n"
     ]
    },
    {
     "name": "stderr",
     "output_type": "stream",
     "text": [
      "100%|██████████| 20/20 [00:00<00:00, 772.47it/s]\n"
     ]
    },
    {
     "name": "stdout",
     "output_type": "stream",
     "text": [
      "Found TEST foreign data for 416 occurencies of object 11, where 416 origined from primesense.\n",
      "destarring as symmetries_discrete with z_factor= 2\n",
      "po_ was corrected by [-1.00818e-05  8.16045e-05 -1.05243e-08]\n",
      "416/416 [==============================] - 27s 64ms/step\n",
      "model_info for object 12:\n",
      "diameter : 86.0109\n",
      "mins : [-39.1656 -28.8135 -28.3   ]\n",
      "maxs : [39.1656 28.8135 28.3   ]\n",
      "symmetries_discrete : [array([[-1.00000e+00,  2.42314e-09, -1.23147e-09,  4.05229e-03],\n",
      "       [-2.42314e-09, -1.00000e+00,  2.10363e-08, -7.00235e-04],\n",
      "       [-1.23147e-09,  2.10363e-08,  1.00000e+00,  4.85766e-08],\n",
      "       [ 0.00000e+00,  0.00000e+00,  0.00000e+00,  1.00000e+00]])]\n",
      "symmetries_continuous : False\n",
      "WARNING:tensorflow:No training configuration found in save file, so the model was *not* compiled. Compile it manually.\n",
      "destarring as symmetries_discrete with z_factor= 2\n",
      "generate ref samples discrete symmetries with z_factor= 2\n",
      "Tensor(\"BatchGatherND/Reshape_5:0\", shape=(None, 15, 3, 8, 3), dtype=float32)\n",
      "po_ was corrected by [-2.026145e-03  3.501175e-04 -2.428830e-08]\n",
      "WARNING:tensorflow:Layer mt_m_evaluation_22 is casting an input tensor from dtype float64 to the layer's dtype of float32, which is new behavior in TensorFlow 2.  The layer has dtype float32 because its dtype defaults to floatx.\n",
      "\n",
      "If you intended to run this layer in float32, you can safely ignore this warning. If in doubt, this warning is likely only an issue if you are porting a TensorFlow 1.X model to TensorFlow 2.\n",
      "\n",
      "To change all layers to have dtype float64 by default, call `tf.keras.backend.set_floatx('float64')`. To change just this layer, pass dtype='float64' to the layer constructor. If you are the author of this layer, you can disable autocasting by passing autocast=False to the base Layer constructor.\n",
      "\n",
      "WARNING:tensorflow:Layer add_11 is casting an input tensor from dtype float64 to the layer's dtype of float32, which is new behavior in TensorFlow 2.  The layer has dtype float32 because its dtype defaults to floatx.\n",
      "\n",
      "If you intended to run this layer in float32, you can safely ignore this warning. If in doubt, this warning is likely only an issue if you are porting a TensorFlow 1.X model to TensorFlow 2.\n",
      "\n",
      "To change all layers to have dtype float64 by default, call `tf.keras.backend.set_floatx('float64')`. To change just this layer, pass dtype='float64' to the layer constructor. If you are the author of this layer, you can disable autocasting by passing autocast=False to the base Layer constructor.\n",
      "\n"
     ]
    },
    {
     "name": "stderr",
     "output_type": "stream",
     "text": [
      "100%|██████████| 20/20 [00:00<00:00, 758.17it/s]\n"
     ]
    },
    {
     "name": "stdout",
     "output_type": "stream",
     "text": [
      "Found TEST foreign data for 416 occurencies of object 12, where 416 origined from primesense.\n",
      "destarring as symmetries_discrete with z_factor= 2\n",
      "po_ was corrected by [-2.026145e-03  3.501175e-04 -2.428830e-08]\n",
      "416/416 [==============================] - 27s 64ms/step\n",
      "model_info for object 13:\n",
      "diameter : 58.1257\n",
      "mins : [-19.9971 -19.9943 -23.    ]\n",
      "maxs : [19.9971 19.9943 23.    ]\n",
      "symmetries_discrete : []\n",
      "symmetries_continuous : True\n",
      "WARNING:tensorflow:No training configuration found in save file, so the model was *not* compiled. Compile it manually.\n",
      "destarring as symmetries_continuous\n",
      "WARNING:tensorflow:Layer mt_m_evaluation_24 is casting an input tensor from dtype float64 to the layer's dtype of float32, which is new behavior in TensorFlow 2.  The layer has dtype float32 because its dtype defaults to floatx.\n",
      "\n",
      "If you intended to run this layer in float32, you can safely ignore this warning. If in doubt, this warning is likely only an issue if you are porting a TensorFlow 1.X model to TensorFlow 2.\n",
      "\n",
      "To change all layers to have dtype float64 by default, call `tf.keras.backend.set_floatx('float64')`. To change just this layer, pass dtype='float64' to the layer constructor. If you are the author of this layer, you can disable autocasting by passing autocast=False to the base Layer constructor.\n",
      "\n",
      "WARNING:tensorflow:Layer add_12 is casting an input tensor from dtype float64 to the layer's dtype of float32, which is new behavior in TensorFlow 2.  The layer has dtype float32 because its dtype defaults to floatx.\n",
      "\n",
      "If you intended to run this layer in float32, you can safely ignore this warning. If in doubt, this warning is likely only an issue if you are porting a TensorFlow 1.X model to TensorFlow 2.\n",
      "\n",
      "To change all layers to have dtype float64 by default, call `tf.keras.backend.set_floatx('float64')`. To change just this layer, pass dtype='float64' to the layer constructor. If you are the author of this layer, you can disable autocasting by passing autocast=False to the base Layer constructor.\n",
      "\n"
     ]
    },
    {
     "name": "stderr",
     "output_type": "stream",
     "text": [
      "100%|██████████| 20/20 [00:00<00:00, 753.39it/s]\n"
     ]
    },
    {
     "name": "stdout",
     "output_type": "stream",
     "text": [
      "Found TEST foreign data for 486 occurencies of object 13, where 486 origined from primesense.\n",
      "destarring as symmetries_continuous\n",
      "486/486 [==============================] - 30s 62ms/step\n",
      "model_info for object 14:\n",
      "diameter : 71.9471\n",
      "mins : [-22.0673 -22.0673 -32.55  ]\n",
      "maxs : [22.0673 22.0673 32.55  ]\n",
      "symmetries_discrete : []\n",
      "symmetries_continuous : True\n",
      "WARNING:tensorflow:No training configuration found in save file, so the model was *not* compiled. Compile it manually.\n",
      "destarring as symmetries_continuous\n",
      "WARNING:tensorflow:Layer mt_m_evaluation_26 is casting an input tensor from dtype float64 to the layer's dtype of float32, which is new behavior in TensorFlow 2.  The layer has dtype float32 because its dtype defaults to floatx.\n",
      "\n",
      "If you intended to run this layer in float32, you can safely ignore this warning. If in doubt, this warning is likely only an issue if you are porting a TensorFlow 1.X model to TensorFlow 2.\n",
      "\n",
      "To change all layers to have dtype float64 by default, call `tf.keras.backend.set_floatx('float64')`. To change just this layer, pass dtype='float64' to the layer constructor. If you are the author of this layer, you can disable autocasting by passing autocast=False to the base Layer constructor.\n",
      "\n",
      "WARNING:tensorflow:Layer add_13 is casting an input tensor from dtype float64 to the layer's dtype of float32, which is new behavior in TensorFlow 2.  The layer has dtype float32 because its dtype defaults to floatx.\n",
      "\n",
      "If you intended to run this layer in float32, you can safely ignore this warning. If in doubt, this warning is likely only an issue if you are porting a TensorFlow 1.X model to TensorFlow 2.\n",
      "\n",
      "To change all layers to have dtype float64 by default, call `tf.keras.backend.set_floatx('float64')`. To change just this layer, pass dtype='float64' to the layer constructor. If you are the author of this layer, you can disable autocasting by passing autocast=False to the base Layer constructor.\n",
      "\n"
     ]
    },
    {
     "name": "stderr",
     "output_type": "stream",
     "text": [
      "100%|██████████| 20/20 [00:00<00:00, 732.75it/s]\n"
     ]
    },
    {
     "name": "stdout",
     "output_type": "stream",
     "text": [
      "Found TEST foreign data for 553 occurencies of object 14, where 553 origined from primesense.\n",
      "destarring as symmetries_continuous\n",
      "553/553 [==============================] - 34s 62ms/step\n",
      "model_info for object 15:\n",
      "diameter : 68.5692\n",
      "mins : [-22.2738 -22.2771 -27.5   ]\n",
      "maxs : [22.2738 22.2771 27.5   ]\n",
      "symmetries_discrete : []\n",
      "symmetries_continuous : True\n",
      "WARNING:tensorflow:No training configuration found in save file, so the model was *not* compiled. Compile it manually.\n",
      "destarring as symmetries_continuous\n",
      "WARNING:tensorflow:Layer mt_m_evaluation_28 is casting an input tensor from dtype float64 to the layer's dtype of float32, which is new behavior in TensorFlow 2.  The layer has dtype float32 because its dtype defaults to floatx.\n",
      "\n",
      "If you intended to run this layer in float32, you can safely ignore this warning. If in doubt, this warning is likely only an issue if you are porting a TensorFlow 1.X model to TensorFlow 2.\n",
      "\n",
      "To change all layers to have dtype float64 by default, call `tf.keras.backend.set_floatx('float64')`. To change just this layer, pass dtype='float64' to the layer constructor. If you are the author of this layer, you can disable autocasting by passing autocast=False to the base Layer constructor.\n",
      "\n",
      "WARNING:tensorflow:Layer add_14 is casting an input tensor from dtype float64 to the layer's dtype of float32, which is new behavior in TensorFlow 2.  The layer has dtype float32 because its dtype defaults to floatx.\n",
      "\n",
      "If you intended to run this layer in float32, you can safely ignore this warning. If in doubt, this warning is likely only an issue if you are porting a TensorFlow 1.X model to TensorFlow 2.\n",
      "\n",
      "To change all layers to have dtype float64 by default, call `tf.keras.backend.set_floatx('float64')`. To change just this layer, pass dtype='float64' to the layer constructor. If you are the author of this layer, you can disable autocasting by passing autocast=False to the base Layer constructor.\n",
      "\n"
     ]
    },
    {
     "name": "stderr",
     "output_type": "stream",
     "text": [
      "100%|██████████| 20/20 [00:00<00:00, 720.47it/s]\n"
     ]
    },
    {
     "name": "stdout",
     "output_type": "stream",
     "text": [
      "Found TEST foreign data for 674 occurencies of object 15, where 674 origined from primesense.\n",
      "destarring as symmetries_continuous\n",
      "674/674 [==============================] - 42s 62ms/step\n",
      "model_info for object 16:\n",
      "diameter : 69.1883\n",
      "mins : [-27.6338 -27.6317 -23.5   ]\n",
      "maxs : [27.6338 27.6317 23.5   ]\n",
      "symmetries_discrete : []\n",
      "symmetries_continuous : True\n",
      "WARNING:tensorflow:No training configuration found in save file, so the model was *not* compiled. Compile it manually.\n",
      "destarring as symmetries_continuous\n",
      "WARNING:tensorflow:Layer mt_m_evaluation_30 is casting an input tensor from dtype float64 to the layer's dtype of float32, which is new behavior in TensorFlow 2.  The layer has dtype float32 because its dtype defaults to floatx.\n",
      "\n",
      "If you intended to run this layer in float32, you can safely ignore this warning. If in doubt, this warning is likely only an issue if you are porting a TensorFlow 1.X model to TensorFlow 2.\n",
      "\n",
      "To change all layers to have dtype float64 by default, call `tf.keras.backend.set_floatx('float64')`. To change just this layer, pass dtype='float64' to the layer constructor. If you are the author of this layer, you can disable autocasting by passing autocast=False to the base Layer constructor.\n",
      "\n",
      "WARNING:tensorflow:Layer add_15 is casting an input tensor from dtype float64 to the layer's dtype of float32, which is new behavior in TensorFlow 2.  The layer has dtype float32 because its dtype defaults to floatx.\n",
      "\n",
      "If you intended to run this layer in float32, you can safely ignore this warning. If in doubt, this warning is likely only an issue if you are porting a TensorFlow 1.X model to TensorFlow 2.\n",
      "\n",
      "To change all layers to have dtype float64 by default, call `tf.keras.backend.set_floatx('float64')`. To change just this layer, pass dtype='float64' to the layer constructor. If you are the author of this layer, you can disable autocasting by passing autocast=False to the base Layer constructor.\n",
      "\n"
     ]
    },
    {
     "name": "stderr",
     "output_type": "stream",
     "text": [
      "100%|██████████| 20/20 [00:00<00:00, 736.28it/s]\n"
     ]
    },
    {
     "name": "stdout",
     "output_type": "stream",
     "text": [
      "Found TEST foreign data for 531 occurencies of object 16, where 531 origined from primesense.\n",
      "destarring as symmetries_continuous\n",
      "531/531 [==============================] - 33s 62ms/step\n",
      "model_info for object 17:\n",
      "diameter : 112.839\n",
      "mins : [-53.8871 -53.8816 -30.05  ]\n",
      "maxs : [53.8869 53.8814 30.05  ]\n",
      "symmetries_discrete : []\n",
      "symmetries_continuous : True\n",
      "WARNING:tensorflow:No training configuration found in save file, so the model was *not* compiled. Compile it manually.\n",
      "destarring as symmetries_continuous\n",
      "WARNING:tensorflow:Layer mt_m_evaluation_32 is casting an input tensor from dtype float64 to the layer's dtype of float32, which is new behavior in TensorFlow 2.  The layer has dtype float32 because its dtype defaults to floatx.\n",
      "\n",
      "If you intended to run this layer in float32, you can safely ignore this warning. If in doubt, this warning is likely only an issue if you are porting a TensorFlow 1.X model to TensorFlow 2.\n",
      "\n",
      "To change all layers to have dtype float64 by default, call `tf.keras.backend.set_floatx('float64')`. To change just this layer, pass dtype='float64' to the layer constructor. If you are the author of this layer, you can disable autocasting by passing autocast=False to the base Layer constructor.\n",
      "\n",
      "WARNING:tensorflow:Layer add_16 is casting an input tensor from dtype float64 to the layer's dtype of float32, which is new behavior in TensorFlow 2.  The layer has dtype float32 because its dtype defaults to floatx.\n",
      "\n",
      "If you intended to run this layer in float32, you can safely ignore this warning. If in doubt, this warning is likely only an issue if you are porting a TensorFlow 1.X model to TensorFlow 2.\n",
      "\n",
      "To change all layers to have dtype float64 by default, call `tf.keras.backend.set_floatx('float64')`. To change just this layer, pass dtype='float64' to the layer constructor. If you are the author of this layer, you can disable autocasting by passing autocast=False to the base Layer constructor.\n",
      "\n"
     ]
    },
    {
     "name": "stderr",
     "output_type": "stream",
     "text": [
      "100%|██████████| 20/20 [00:00<00:00, 797.92it/s]\n"
     ]
    },
    {
     "name": "stdout",
     "output_type": "stream",
     "text": [
      "Found TEST foreign data for 251 occurencies of object 17, where 251 origined from primesense.\n",
      "destarring as symmetries_continuous\n",
      "251/251 [==============================] - 16s 62ms/step\n",
      "model_info for object 18:\n",
      "diameter : 110.982\n",
      "mins : [-49.3605 -49.3694 -31.8869]\n",
      "maxs : [49.3605 49.3694 31.8869]\n",
      "symmetries_discrete : []\n",
      "symmetries_continuous : False\n",
      "WARNING:tensorflow:No training configuration found in save file, so the model was *not* compiled. Compile it manually.\n",
      "destarring is not changing anything\n",
      "WARNING:tensorflow:Layer mt_m_evaluation_34 is casting an input tensor from dtype float64 to the layer's dtype of float32, which is new behavior in TensorFlow 2.  The layer has dtype float32 because its dtype defaults to floatx.\n",
      "\n",
      "If you intended to run this layer in float32, you can safely ignore this warning. If in doubt, this warning is likely only an issue if you are porting a TensorFlow 1.X model to TensorFlow 2.\n",
      "\n",
      "To change all layers to have dtype float64 by default, call `tf.keras.backend.set_floatx('float64')`. To change just this layer, pass dtype='float64' to the layer constructor. If you are the author of this layer, you can disable autocasting by passing autocast=False to the base Layer constructor.\n",
      "\n",
      "WARNING:tensorflow:Layer add_17 is casting an input tensor from dtype float64 to the layer's dtype of float32, which is new behavior in TensorFlow 2.  The layer has dtype float32 because its dtype defaults to floatx.\n",
      "\n",
      "If you intended to run this layer in float32, you can safely ignore this warning. If in doubt, this warning is likely only an issue if you are porting a TensorFlow 1.X model to TensorFlow 2.\n",
      "\n",
      "To change all layers to have dtype float64 by default, call `tf.keras.backend.set_floatx('float64')`. To change just this layer, pass dtype='float64' to the layer constructor. If you are the author of this layer, you can disable autocasting by passing autocast=False to the base Layer constructor.\n",
      "\n"
     ]
    },
    {
     "name": "stderr",
     "output_type": "stream",
     "text": [
      "100%|██████████| 20/20 [00:00<00:00, 786.27it/s]\n"
     ]
    },
    {
     "name": "stdout",
     "output_type": "stream",
     "text": [
      "Found TEST foreign data for 286 occurencies of object 18, where 286 origined from primesense.\n",
      "destarring is not changing anything\n",
      "286/286 [==============================] - 17s 59ms/step\n",
      "model_info for object 19:\n",
      "diameter : 89.0689\n",
      "mins : [-32.75 -38.25 -23.5 ]\n",
      "maxs : [32.75 38.25 23.5 ]\n",
      "symmetries_discrete : [array([[-1.00000e+00, -3.47614e-14,  1.74419e-14,  0.00000e+00],\n",
      "       [-3.47614e-14,  1.00000e+00, -3.47614e-14,  0.00000e+00],\n",
      "       [-1.74419e-14, -3.47614e-14, -1.00000e+00,  0.00000e+00],\n",
      "       [ 0.00000e+00,  0.00000e+00,  0.00000e+00,  1.00000e+00]])]\n",
      "symmetries_continuous : False\n",
      "WARNING:tensorflow:No training configuration found in save file, so the model was *not* compiled. Compile it manually.\n",
      "destarring as symmetries_discrete with y_factor= 2\n",
      "generate ref samples discrete symmetries with y_factor= 2\n",
      "Tensor(\"BatchGatherND/Reshape_5:0\", shape=(None, 15, 3, 8, 3), dtype=float32)\n",
      "po_ was corrected by [-0. -0. -0.]\n",
      "WARNING:tensorflow:Layer mt_m_evaluation_36 is casting an input tensor from dtype float64 to the layer's dtype of float32, which is new behavior in TensorFlow 2.  The layer has dtype float32 because its dtype defaults to floatx.\n",
      "\n",
      "If you intended to run this layer in float32, you can safely ignore this warning. If in doubt, this warning is likely only an issue if you are porting a TensorFlow 1.X model to TensorFlow 2.\n",
      "\n",
      "To change all layers to have dtype float64 by default, call `tf.keras.backend.set_floatx('float64')`. To change just this layer, pass dtype='float64' to the layer constructor. If you are the author of this layer, you can disable autocasting by passing autocast=False to the base Layer constructor.\n",
      "\n",
      "WARNING:tensorflow:Layer add_18 is casting an input tensor from dtype float64 to the layer's dtype of float32, which is new behavior in TensorFlow 2.  The layer has dtype float32 because its dtype defaults to floatx.\n",
      "\n",
      "If you intended to run this layer in float32, you can safely ignore this warning. If in doubt, this warning is likely only an issue if you are porting a TensorFlow 1.X model to TensorFlow 2.\n",
      "\n",
      "To change all layers to have dtype float64 by default, call `tf.keras.backend.set_floatx('float64')`. To change just this layer, pass dtype='float64' to the layer constructor. If you are the author of this layer, you can disable autocasting by passing autocast=False to the base Layer constructor.\n",
      "\n"
     ]
    },
    {
     "name": "stderr",
     "output_type": "stream",
     "text": [
      "100%|██████████| 20/20 [00:00<00:00, 754.12it/s]\n"
     ]
    },
    {
     "name": "stdout",
     "output_type": "stream",
     "text": [
      "Found TEST foreign data for 455 occurencies of object 19, where 455 origined from primesense.\n",
      "destarring as symmetries_discrete with y_factor= 2\n",
      "po_ was corrected by [-0. -0. -0.]\n",
      "455/455 [==============================] - 29s 65ms/step\n",
      "model_info for object 20:\n",
      "diameter : 98.8887\n",
      "mins : [-41.5  -37.75 -23.5 ]\n",
      "maxs : [41.5  37.75 23.5 ]\n",
      "symmetries_discrete : [array([[-1.00000e+00, -3.47614e-14,  1.74419e-14,  0.00000e+00],\n",
      "       [-3.47614e-14,  1.00000e+00, -3.47614e-14,  0.00000e+00],\n",
      "       [-1.74419e-14, -3.47614e-14, -1.00000e+00,  0.00000e+00],\n",
      "       [ 0.00000e+00,  0.00000e+00,  0.00000e+00,  1.00000e+00]])]\n",
      "symmetries_continuous : False\n",
      "WARNING:tensorflow:No training configuration found in save file, so the model was *not* compiled. Compile it manually.\n",
      "destarring as symmetries_discrete with y_factor= 2\n",
      "generate ref samples discrete symmetries with y_factor= 2\n",
      "Tensor(\"BatchGatherND/Reshape_5:0\", shape=(None, 15, 3, 8, 3), dtype=float32)\n",
      "po_ was corrected by [-0. -0. -0.]\n",
      "WARNING:tensorflow:Layer mt_m_evaluation_38 is casting an input tensor from dtype float64 to the layer's dtype of float32, which is new behavior in TensorFlow 2.  The layer has dtype float32 because its dtype defaults to floatx.\n",
      "\n",
      "If you intended to run this layer in float32, you can safely ignore this warning. If in doubt, this warning is likely only an issue if you are porting a TensorFlow 1.X model to TensorFlow 2.\n",
      "\n",
      "To change all layers to have dtype float64 by default, call `tf.keras.backend.set_floatx('float64')`. To change just this layer, pass dtype='float64' to the layer constructor. If you are the author of this layer, you can disable autocasting by passing autocast=False to the base Layer constructor.\n",
      "\n",
      "WARNING:tensorflow:Layer add_19 is casting an input tensor from dtype float64 to the layer's dtype of float32, which is new behavior in TensorFlow 2.  The layer has dtype float32 because its dtype defaults to floatx.\n",
      "\n",
      "If you intended to run this layer in float32, you can safely ignore this warning. If in doubt, this warning is likely only an issue if you are porting a TensorFlow 1.X model to TensorFlow 2.\n",
      "\n",
      "To change all layers to have dtype float64 by default, call `tf.keras.backend.set_floatx('float64')`. To change just this layer, pass dtype='float64' to the layer constructor. If you are the author of this layer, you can disable autocasting by passing autocast=False to the base Layer constructor.\n",
      "\n"
     ]
    },
    {
     "name": "stderr",
     "output_type": "stream",
     "text": [
      "100%|██████████| 20/20 [00:00<00:00, 749.73it/s]\n"
     ]
    },
    {
     "name": "stdout",
     "output_type": "stream",
     "text": [
      "Found TEST foreign data for 479 occurencies of object 20, where 479 origined from primesense.\n",
      "destarring as symmetries_discrete with y_factor= 2\n",
      "po_ was corrected by [-0. -0. -0.]\n",
      "479/479 [==============================] - 31s 65ms/step\n",
      "model_info for object 21:\n",
      "diameter : 92.2527\n",
      "mins : [-38.45   -39.4891 -21.5   ]\n",
      "maxs : [38.45   39.4891 21.5   ]\n",
      "symmetries_discrete : []\n",
      "symmetries_continuous : False\n",
      "WARNING:tensorflow:No training configuration found in save file, so the model was *not* compiled. Compile it manually.\n",
      "destarring is not changing anything\n",
      "WARNING:tensorflow:Layer mt_m_evaluation_40 is casting an input tensor from dtype float64 to the layer's dtype of float32, which is new behavior in TensorFlow 2.  The layer has dtype float32 because its dtype defaults to floatx.\n",
      "\n",
      "If you intended to run this layer in float32, you can safely ignore this warning. If in doubt, this warning is likely only an issue if you are porting a TensorFlow 1.X model to TensorFlow 2.\n",
      "\n",
      "To change all layers to have dtype float64 by default, call `tf.keras.backend.set_floatx('float64')`. To change just this layer, pass dtype='float64' to the layer constructor. If you are the author of this layer, you can disable autocasting by passing autocast=False to the base Layer constructor.\n",
      "\n",
      "WARNING:tensorflow:Layer add_20 is casting an input tensor from dtype float64 to the layer's dtype of float32, which is new behavior in TensorFlow 2.  The layer has dtype float32 because its dtype defaults to floatx.\n",
      "\n",
      "If you intended to run this layer in float32, you can safely ignore this warning. If in doubt, this warning is likely only an issue if you are porting a TensorFlow 1.X model to TensorFlow 2.\n",
      "\n",
      "To change all layers to have dtype float64 by default, call `tf.keras.backend.set_floatx('float64')`. To change just this layer, pass dtype='float64' to the layer constructor. If you are the author of this layer, you can disable autocasting by passing autocast=False to the base Layer constructor.\n",
      "\n"
     ]
    },
    {
     "name": "stderr",
     "output_type": "stream",
     "text": [
      "100%|██████████| 20/20 [00:00<00:00, 775.83it/s]\n"
     ]
    },
    {
     "name": "stdout",
     "output_type": "stream",
     "text": [
      "Found TEST foreign data for 384 occurencies of object 21, where 384 origined from primesense.\n",
      "destarring is not changing anything\n",
      "384/384 [==============================] - 22s 58ms/step\n",
      "model_info for object 22:\n",
      "diameter : 92.2527\n",
      "mins : [-38.45   -39.4891 -21.9935]\n",
      "maxs : [38.45   39.4891 21.9935]\n",
      "symmetries_discrete : []\n",
      "symmetries_continuous : False\n",
      "WARNING:tensorflow:No training configuration found in save file, so the model was *not* compiled. Compile it manually.\n",
      "destarring is not changing anything\n",
      "WARNING:tensorflow:Layer mt_m_evaluation_42 is casting an input tensor from dtype float64 to the layer's dtype of float32, which is new behavior in TensorFlow 2.  The layer has dtype float32 because its dtype defaults to floatx.\n",
      "\n",
      "If you intended to run this layer in float32, you can safely ignore this warning. If in doubt, this warning is likely only an issue if you are porting a TensorFlow 1.X model to TensorFlow 2.\n",
      "\n",
      "To change all layers to have dtype float64 by default, call `tf.keras.backend.set_floatx('float64')`. To change just this layer, pass dtype='float64' to the layer constructor. If you are the author of this layer, you can disable autocasting by passing autocast=False to the base Layer constructor.\n",
      "\n",
      "WARNING:tensorflow:Layer add_21 is casting an input tensor from dtype float64 to the layer's dtype of float32, which is new behavior in TensorFlow 2.  The layer has dtype float32 because its dtype defaults to floatx.\n",
      "\n",
      "If you intended to run this layer in float32, you can safely ignore this warning. If in doubt, this warning is likely only an issue if you are porting a TensorFlow 1.X model to TensorFlow 2.\n",
      "\n",
      "To change all layers to have dtype float64 by default, call `tf.keras.backend.set_floatx('float64')`. To change just this layer, pass dtype='float64' to the layer constructor. If you are the author of this layer, you can disable autocasting by passing autocast=False to the base Layer constructor.\n",
      "\n"
     ]
    },
    {
     "name": "stderr",
     "output_type": "stream",
     "text": [
      "100%|██████████| 20/20 [00:00<00:00, 762.53it/s]\n"
     ]
    },
    {
     "name": "stdout",
     "output_type": "stream",
     "text": [
      "Found TEST foreign data for 401 occurencies of object 22, where 401 origined from primesense.\n",
      "destarring is not changing anything\n",
      "401/401 [==============================] - 23s 58ms/step\n",
      "model_info for object 23:\n",
      "diameter : 142.587\n",
      "mins : [-68.9742 -36.75   -26.0326]\n",
      "maxs : [68.9738 36.75   26.0326]\n",
      "symmetries_discrete : [array([[-1.0000000e+00,  0.0000000e+00,  1.2246468e-16,  0.0000000e+00],\n",
      "       [ 0.0000000e+00,  1.0000000e+00,  0.0000000e+00,  0.0000000e+00],\n",
      "       [-1.2246468e-16,  0.0000000e+00, -1.0000000e+00,  0.0000000e+00],\n",
      "       [ 0.0000000e+00,  0.0000000e+00,  0.0000000e+00,  1.0000000e+00]])]\n",
      "symmetries_continuous : False\n",
      "WARNING:tensorflow:No training configuration found in save file, so the model was *not* compiled. Compile it manually.\n",
      "destarring as symmetries_discrete with y_factor= 2\n",
      "generate ref samples discrete symmetries with y_factor= 2\n",
      "Tensor(\"BatchGatherND/Reshape_5:0\", shape=(None, 15, 3, 8, 3), dtype=float32)\n",
      "po_ was corrected by [-0. -0. -0.]\n",
      "WARNING:tensorflow:Layer mt_m_evaluation_44 is casting an input tensor from dtype float64 to the layer's dtype of float32, which is new behavior in TensorFlow 2.  The layer has dtype float32 because its dtype defaults to floatx.\n",
      "\n",
      "If you intended to run this layer in float32, you can safely ignore this warning. If in doubt, this warning is likely only an issue if you are porting a TensorFlow 1.X model to TensorFlow 2.\n",
      "\n",
      "To change all layers to have dtype float64 by default, call `tf.keras.backend.set_floatx('float64')`. To change just this layer, pass dtype='float64' to the layer constructor. If you are the author of this layer, you can disable autocasting by passing autocast=False to the base Layer constructor.\n",
      "\n",
      "WARNING:tensorflow:Layer add_22 is casting an input tensor from dtype float64 to the layer's dtype of float32, which is new behavior in TensorFlow 2.  The layer has dtype float32 because its dtype defaults to floatx.\n",
      "\n",
      "If you intended to run this layer in float32, you can safely ignore this warning. If in doubt, this warning is likely only an issue if you are porting a TensorFlow 1.X model to TensorFlow 2.\n",
      "\n",
      "To change all layers to have dtype float64 by default, call `tf.keras.backend.set_floatx('float64')`. To change just this layer, pass dtype='float64' to the layer constructor. If you are the author of this layer, you can disable autocasting by passing autocast=False to the base Layer constructor.\n",
      "\n"
     ]
    },
    {
     "name": "stderr",
     "output_type": "stream",
     "text": [
      "100%|██████████| 20/20 [00:00<00:00, 759.72it/s]\n"
     ]
    },
    {
     "name": "stdout",
     "output_type": "stream",
     "text": [
      "Found TEST foreign data for 430 occurencies of object 23, where 430 origined from primesense.\n",
      "destarring as symmetries_discrete with y_factor= 2\n",
      "po_ was corrected by [-0. -0. -0.]\n",
      "430/430 [==============================] - 28s 64ms/step\n",
      "model_info for object 24:\n",
      "diameter : 84.736\n",
      "mins : [-21.4977 -21.4985 -40.3   ]\n",
      "maxs : [21.4977 21.4985 40.3   ]\n",
      "symmetries_discrete : []\n",
      "symmetries_continuous : True\n",
      "WARNING:tensorflow:No training configuration found in save file, so the model was *not* compiled. Compile it manually.\n",
      "destarring as symmetries_continuous\n",
      "WARNING:tensorflow:Layer mt_m_evaluation_46 is casting an input tensor from dtype float64 to the layer's dtype of float32, which is new behavior in TensorFlow 2.  The layer has dtype float32 because its dtype defaults to floatx.\n",
      "\n",
      "If you intended to run this layer in float32, you can safely ignore this warning. If in doubt, this warning is likely only an issue if you are porting a TensorFlow 1.X model to TensorFlow 2.\n",
      "\n",
      "To change all layers to have dtype float64 by default, call `tf.keras.backend.set_floatx('float64')`. To change just this layer, pass dtype='float64' to the layer constructor. If you are the author of this layer, you can disable autocasting by passing autocast=False to the base Layer constructor.\n",
      "\n",
      "WARNING:tensorflow:Layer add_23 is casting an input tensor from dtype float64 to the layer's dtype of float32, which is new behavior in TensorFlow 2.  The layer has dtype float32 because its dtype defaults to floatx.\n",
      "\n",
      "If you intended to run this layer in float32, you can safely ignore this warning. If in doubt, this warning is likely only an issue if you are porting a TensorFlow 1.X model to TensorFlow 2.\n",
      "\n",
      "To change all layers to have dtype float64 by default, call `tf.keras.backend.set_floatx('float64')`. To change just this layer, pass dtype='float64' to the layer constructor. If you are the author of this layer, you can disable autocasting by passing autocast=False to the base Layer constructor.\n",
      "\n"
     ]
    },
    {
     "name": "stderr",
     "output_type": "stream",
     "text": [
      "100%|██████████| 20/20 [00:00<00:00, 714.70it/s]\n"
     ]
    },
    {
     "name": "stdout",
     "output_type": "stream",
     "text": [
      "Found TEST foreign data for 585 occurencies of object 24, where 585 origined from primesense.\n",
      "destarring as symmetries_continuous\n",
      "585/585 [==============================] - 36s 62ms/step\n",
      "model_info for object 25:\n",
      "diameter : 108.801\n",
      "mins : [-48.     -30.75   -30.4006]\n",
      "maxs : [48.     30.75   30.4006]\n",
      "symmetries_discrete : [array([[-1.000000e+00, -4.630770e-14,  0.000000e+00, -1.400000e+01],\n",
      "       [ 4.630770e-14, -1.000000e+00,  0.000000e+00,  3.241539e-13],\n",
      "       [ 0.000000e+00,  0.000000e+00,  1.000000e+00,  0.000000e+00],\n",
      "       [ 0.000000e+00,  0.000000e+00,  0.000000e+00,  1.000000e+00]])]\n",
      "symmetries_continuous : False\n",
      "WARNING:tensorflow:No training configuration found in save file, so the model was *not* compiled. Compile it manually.\n",
      "destarring as symmetries_discrete with z_factor= 2\n",
      "generate ref samples discrete symmetries with z_factor= 2\n",
      "Tensor(\"BatchGatherND/Reshape_5:0\", shape=(None, 15, 3, 8, 3), dtype=float32)\n",
      "po_ was corrected by [ 7.0000000e+00 -1.6207695e-13 -0.0000000e+00]\n",
      "WARNING:tensorflow:Layer mt_m_evaluation_48 is casting an input tensor from dtype float64 to the layer's dtype of float32, which is new behavior in TensorFlow 2.  The layer has dtype float32 because its dtype defaults to floatx.\n",
      "\n",
      "If you intended to run this layer in float32, you can safely ignore this warning. If in doubt, this warning is likely only an issue if you are porting a TensorFlow 1.X model to TensorFlow 2.\n",
      "\n",
      "To change all layers to have dtype float64 by default, call `tf.keras.backend.set_floatx('float64')`. To change just this layer, pass dtype='float64' to the layer constructor. If you are the author of this layer, you can disable autocasting by passing autocast=False to the base Layer constructor.\n",
      "\n",
      "WARNING:tensorflow:Layer add_24 is casting an input tensor from dtype float64 to the layer's dtype of float32, which is new behavior in TensorFlow 2.  The layer has dtype float32 because its dtype defaults to floatx.\n",
      "\n",
      "If you intended to run this layer in float32, you can safely ignore this warning. If in doubt, this warning is likely only an issue if you are porting a TensorFlow 1.X model to TensorFlow 2.\n",
      "\n",
      "To change all layers to have dtype float64 by default, call `tf.keras.backend.set_floatx('float64')`. To change just this layer, pass dtype='float64' to the layer constructor. If you are the author of this layer, you can disable autocasting by passing autocast=False to the base Layer constructor.\n",
      "\n"
     ]
    },
    {
     "name": "stderr",
     "output_type": "stream",
     "text": [
      "100%|██████████| 20/20 [00:00<00:00, 801.72it/s]\n"
     ]
    },
    {
     "name": "stdout",
     "output_type": "stream",
     "text": [
      "Found TEST foreign data for 265 occurencies of object 25, where 265 origined from primesense.\n",
      "destarring as symmetries_discrete with z_factor= 2\n",
      "po_ was corrected by [ 7.0000000e+00 -1.6207695e-13 -0.0000000e+00]\n",
      "265/265 [==============================] - 17s 64ms/step\n",
      "model_info for object 26:\n",
      "diameter : 108.801\n",
      "mins : [-48.     -30.75   -30.3927]\n",
      "maxs : [48.     30.75   30.3927]\n",
      "symmetries_discrete : [array([[-1.000000e+00, -4.630770e-14,  0.000000e+00, -1.400000e+01],\n",
      "       [ 4.630770e-14, -1.000000e+00,  0.000000e+00,  3.241539e-13],\n",
      "       [ 0.000000e+00,  0.000000e+00,  1.000000e+00,  0.000000e+00],\n",
      "       [ 0.000000e+00,  0.000000e+00,  0.000000e+00,  1.000000e+00]])]\n",
      "symmetries_continuous : False\n",
      "WARNING:tensorflow:No training configuration found in save file, so the model was *not* compiled. Compile it manually.\n",
      "destarring as symmetries_discrete with z_factor= 2\n",
      "generate ref samples discrete symmetries with z_factor= 2\n",
      "Tensor(\"BatchGatherND/Reshape_5:0\", shape=(None, 15, 3, 8, 3), dtype=float32)\n",
      "po_ was corrected by [ 7.0000000e+00 -1.6207695e-13 -0.0000000e+00]\n",
      "WARNING:tensorflow:Layer mt_m_evaluation_50 is casting an input tensor from dtype float64 to the layer's dtype of float32, which is new behavior in TensorFlow 2.  The layer has dtype float32 because its dtype defaults to floatx.\n",
      "\n",
      "If you intended to run this layer in float32, you can safely ignore this warning. If in doubt, this warning is likely only an issue if you are porting a TensorFlow 1.X model to TensorFlow 2.\n",
      "\n",
      "To change all layers to have dtype float64 by default, call `tf.keras.backend.set_floatx('float64')`. To change just this layer, pass dtype='float64' to the layer constructor. If you are the author of this layer, you can disable autocasting by passing autocast=False to the base Layer constructor.\n",
      "\n",
      "WARNING:tensorflow:Layer add_25 is casting an input tensor from dtype float64 to the layer's dtype of float32, which is new behavior in TensorFlow 2.  The layer has dtype float32 because its dtype defaults to floatx.\n",
      "\n",
      "If you intended to run this layer in float32, you can safely ignore this warning. If in doubt, this warning is likely only an issue if you are porting a TensorFlow 1.X model to TensorFlow 2.\n",
      "\n",
      "To change all layers to have dtype float64 by default, call `tf.keras.backend.set_floatx('float64')`. To change just this layer, pass dtype='float64' to the layer constructor. If you are the author of this layer, you can disable autocasting by passing autocast=False to the base Layer constructor.\n",
      "\n"
     ]
    },
    {
     "name": "stderr",
     "output_type": "stream",
     "text": [
      "100%|██████████| 20/20 [00:00<00:00, 796.90it/s]\n"
     ]
    },
    {
     "name": "stdout",
     "output_type": "stream",
     "text": [
      "Found TEST foreign data for 233 occurencies of object 26, where 233 origined from primesense.\n",
      "destarring as symmetries_discrete with z_factor= 2\n",
      "po_ was corrected by [ 7.0000000e+00 -1.6207695e-13 -0.0000000e+00]\n",
      "233/233 [==============================] - 15s 64ms/step\n",
      "model_info for object 27:\n",
      "diameter : 152.495\n",
      "mins : [-54.25 -54.25 -28.  ]\n",
      "maxs : [54.25 54.25 28.  ]\n",
      "symmetries_discrete : [array([[ 7.3887e-15, -1.0000e+00,  0.0000e+00,  0.0000e+00],\n",
      "       [ 1.0000e+00,  7.3887e-15,  0.0000e+00,  0.0000e+00],\n",
      "       [ 0.0000e+00,  0.0000e+00,  1.0000e+00,  0.0000e+00],\n",
      "       [ 0.0000e+00,  0.0000e+00,  0.0000e+00,  1.0000e+00]]), array([[-1.00000e+00, -6.05186e-14,  0.00000e+00,  0.00000e+00],\n",
      "       [ 6.05186e-14, -1.00000e+00,  0.00000e+00,  0.00000e+00],\n",
      "       [ 0.00000e+00,  0.00000e+00,  1.00000e+00,  0.00000e+00],\n",
      "       [ 0.00000e+00,  0.00000e+00,  0.00000e+00,  1.00000e+00]]), array([[-2.86054e-14,  1.00000e+00,  0.00000e+00,  0.00000e+00],\n",
      "       [-1.00000e+00, -2.86054e-14,  0.00000e+00,  0.00000e+00],\n",
      "       [ 0.00000e+00,  0.00000e+00,  1.00000e+00,  0.00000e+00],\n",
      "       [ 0.00000e+00,  0.00000e+00,  0.00000e+00,  1.00000e+00]])]\n",
      "symmetries_continuous : False\n",
      "WARNING:tensorflow:No training configuration found in save file, so the model was *not* compiled. Compile it manually.\n",
      "destarring as symmetries_discrete with z_factor= 4\n",
      "generate ref samples discrete symmetries with z_factor= 4\n",
      "Tensor(\"BatchGatherND/Reshape_5:0\", shape=(None, 15, 3, 64, 3), dtype=float32)\n",
      "po_ was corrected by [-0. -0. -0.]\n",
      "WARNING:tensorflow:Layer mt_m_evaluation_52 is casting an input tensor from dtype float64 to the layer's dtype of float32, which is new behavior in TensorFlow 2.  The layer has dtype float32 because its dtype defaults to floatx.\n",
      "\n",
      "If you intended to run this layer in float32, you can safely ignore this warning. If in doubt, this warning is likely only an issue if you are porting a TensorFlow 1.X model to TensorFlow 2.\n",
      "\n",
      "To change all layers to have dtype float64 by default, call `tf.keras.backend.set_floatx('float64')`. To change just this layer, pass dtype='float64' to the layer constructor. If you are the author of this layer, you can disable autocasting by passing autocast=False to the base Layer constructor.\n",
      "\n",
      "WARNING:tensorflow:Layer add_26 is casting an input tensor from dtype float64 to the layer's dtype of float32, which is new behavior in TensorFlow 2.  The layer has dtype float32 because its dtype defaults to floatx.\n",
      "\n",
      "If you intended to run this layer in float32, you can safely ignore this warning. If in doubt, this warning is likely only an issue if you are porting a TensorFlow 1.X model to TensorFlow 2.\n",
      "\n",
      "To change all layers to have dtype float64 by default, call `tf.keras.backend.set_floatx('float64')`. To change just this layer, pass dtype='float64' to the layer constructor. If you are the author of this layer, you can disable autocasting by passing autocast=False to the base Layer constructor.\n",
      "\n"
     ]
    },
    {
     "name": "stderr",
     "output_type": "stream",
     "text": [
      "100%|██████████| 20/20 [00:00<00:00, 804.75it/s]\n"
     ]
    },
    {
     "name": "stdout",
     "output_type": "stream",
     "text": [
      "Found TEST foreign data for 203 occurencies of object 27, where 203 origined from primesense.\n",
      "destarring as symmetries_discrete with z_factor= 4\n",
      "po_ was corrected by [-0. -0. -0.]\n",
      "203/203 [==============================] - 13s 64ms/step\n",
      "model_info for object 28:\n",
      "diameter : 124.778\n",
      "mins : [-49.75 -49.75 -24.2 ]\n",
      "maxs : [49.75 49.75 24.2 ]\n",
      "symmetries_discrete : [array([[-1.00000e+00, -4.63077e-14,  0.00000e+00,  0.00000e+00],\n",
      "       [ 4.63077e-14, -1.00000e+00,  0.00000e+00,  0.00000e+00],\n",
      "       [ 0.00000e+00,  0.00000e+00,  1.00000e+00,  0.00000e+00],\n",
      "       [ 0.00000e+00,  0.00000e+00,  0.00000e+00,  1.00000e+00]])]\n",
      "symmetries_continuous : False\n",
      "WARNING:tensorflow:No training configuration found in save file, so the model was *not* compiled. Compile it manually.\n",
      "destarring as symmetries_discrete with z_factor= 2\n",
      "generate ref samples discrete symmetries with z_factor= 2\n",
      "Tensor(\"BatchGatherND/Reshape_5:0\", shape=(None, 15, 3, 8, 3), dtype=float32)\n",
      "po_ was corrected by [-0. -0. -0.]\n",
      "WARNING:tensorflow:Layer mt_m_evaluation_54 is casting an input tensor from dtype float64 to the layer's dtype of float32, which is new behavior in TensorFlow 2.  The layer has dtype float32 because its dtype defaults to floatx.\n",
      "\n",
      "If you intended to run this layer in float32, you can safely ignore this warning. If in doubt, this warning is likely only an issue if you are porting a TensorFlow 1.X model to TensorFlow 2.\n",
      "\n",
      "To change all layers to have dtype float64 by default, call `tf.keras.backend.set_floatx('float64')`. To change just this layer, pass dtype='float64' to the layer constructor. If you are the author of this layer, you can disable autocasting by passing autocast=False to the base Layer constructor.\n",
      "\n",
      "WARNING:tensorflow:Layer add_27 is casting an input tensor from dtype float64 to the layer's dtype of float32, which is new behavior in TensorFlow 2.  The layer has dtype float32 because its dtype defaults to floatx.\n",
      "\n",
      "If you intended to run this layer in float32, you can safely ignore this warning. If in doubt, this warning is likely only an issue if you are porting a TensorFlow 1.X model to TensorFlow 2.\n",
      "\n",
      "To change all layers to have dtype float64 by default, call `tf.keras.backend.set_floatx('float64')`. To change just this layer, pass dtype='float64' to the layer constructor. If you are the author of this layer, you can disable autocasting by passing autocast=False to the base Layer constructor.\n",
      "\n"
     ]
    },
    {
     "name": "stderr",
     "output_type": "stream",
     "text": [
      "100%|██████████| 20/20 [00:00<00:00, 788.61it/s]\n"
     ]
    },
    {
     "name": "stdout",
     "output_type": "stream",
     "text": [
      "Found TEST foreign data for 320 occurencies of object 28, where 320 origined from primesense.\n",
      "destarring as symmetries_discrete with z_factor= 2\n",
      "po_ was corrected by [-0. -0. -0.]\n",
      "320/320 [==============================] - 21s 64ms/step\n",
      "model_info for object 29:\n",
      "diameter : 134.227\n",
      "mins : [-56.5 -39.  -28.4]\n",
      "maxs : [56.5 39.  28.4]\n",
      "symmetries_discrete : [array([[-1.00000e+00, -4.63077e-14,  0.00000e+00,  0.00000e+00],\n",
      "       [ 4.63077e-14, -1.00000e+00,  0.00000e+00,  0.00000e+00],\n",
      "       [ 0.00000e+00,  0.00000e+00,  1.00000e+00,  0.00000e+00],\n",
      "       [ 0.00000e+00,  0.00000e+00,  0.00000e+00,  1.00000e+00]])]\n",
      "symmetries_continuous : False\n",
      "WARNING:tensorflow:No training configuration found in save file, so the model was *not* compiled. Compile it manually.\n",
      "destarring as symmetries_discrete with z_factor= 2\n",
      "generate ref samples discrete symmetries with z_factor= 2\n",
      "Tensor(\"BatchGatherND/Reshape_5:0\", shape=(None, 15, 3, 8, 3), dtype=float32)\n",
      "po_ was corrected by [-0. -0. -0.]\n",
      "WARNING:tensorflow:Layer mt_m_evaluation_56 is casting an input tensor from dtype float64 to the layer's dtype of float32, which is new behavior in TensorFlow 2.  The layer has dtype float32 because its dtype defaults to floatx.\n",
      "\n",
      "If you intended to run this layer in float32, you can safely ignore this warning. If in doubt, this warning is likely only an issue if you are porting a TensorFlow 1.X model to TensorFlow 2.\n",
      "\n",
      "To change all layers to have dtype float64 by default, call `tf.keras.backend.set_floatx('float64')`. To change just this layer, pass dtype='float64' to the layer constructor. If you are the author of this layer, you can disable autocasting by passing autocast=False to the base Layer constructor.\n",
      "\n",
      "WARNING:tensorflow:Layer add_28 is casting an input tensor from dtype float64 to the layer's dtype of float32, which is new behavior in TensorFlow 2.  The layer has dtype float32 because its dtype defaults to floatx.\n",
      "\n",
      "If you intended to run this layer in float32, you can safely ignore this warning. If in doubt, this warning is likely only an issue if you are porting a TensorFlow 1.X model to TensorFlow 2.\n",
      "\n",
      "To change all layers to have dtype float64 by default, call `tf.keras.backend.set_floatx('float64')`. To change just this layer, pass dtype='float64' to the layer constructor. If you are the author of this layer, you can disable autocasting by passing autocast=False to the base Layer constructor.\n",
      "\n"
     ]
    },
    {
     "name": "stderr",
     "output_type": "stream",
     "text": [
      "100%|██████████| 20/20 [00:00<00:00, 816.21it/s]\n"
     ]
    },
    {
     "name": "stdout",
     "output_type": "stream",
     "text": [
      "Found TEST foreign data for 203 occurencies of object 29, where 203 origined from primesense.\n",
      "destarring as symmetries_discrete with z_factor= 2\n",
      "po_ was corrected by [-0. -0. -0.]\n",
      "203/203 [==============================] - 13s 65ms/step\n",
      "model_info for object 30:\n",
      "diameter : 88.7538\n",
      "mins : [-40.  -40.  -25.3]\n",
      "maxs : [40.  40.  25.3]\n",
      "symmetries_discrete : []\n",
      "symmetries_continuous : True\n",
      "WARNING:tensorflow:No training configuration found in save file, so the model was *not* compiled. Compile it manually.\n",
      "destarring as symmetries_continuous\n",
      "WARNING:tensorflow:Layer mt_m_evaluation_58 is casting an input tensor from dtype float64 to the layer's dtype of float32, which is new behavior in TensorFlow 2.  The layer has dtype float32 because its dtype defaults to floatx.\n",
      "\n",
      "If you intended to run this layer in float32, you can safely ignore this warning. If in doubt, this warning is likely only an issue if you are porting a TensorFlow 1.X model to TensorFlow 2.\n",
      "\n",
      "To change all layers to have dtype float64 by default, call `tf.keras.backend.set_floatx('float64')`. To change just this layer, pass dtype='float64' to the layer constructor. If you are the author of this layer, you can disable autocasting by passing autocast=False to the base Layer constructor.\n",
      "\n",
      "WARNING:tensorflow:Layer add_29 is casting an input tensor from dtype float64 to the layer's dtype of float32, which is new behavior in TensorFlow 2.  The layer has dtype float32 because its dtype defaults to floatx.\n",
      "\n",
      "If you intended to run this layer in float32, you can safely ignore this warning. If in doubt, this warning is likely only an issue if you are porting a TensorFlow 1.X model to TensorFlow 2.\n",
      "\n",
      "To change all layers to have dtype float64 by default, call `tf.keras.backend.set_floatx('float64')`. To change just this layer, pass dtype='float64' to the layer constructor. If you are the author of this layer, you can disable autocasting by passing autocast=False to the base Layer constructor.\n",
      "\n"
     ]
    },
    {
     "name": "stderr",
     "output_type": "stream",
     "text": [
      "100%|██████████| 20/20 [00:00<00:00, 790.94it/s]\n"
     ]
    },
    {
     "name": "stdout",
     "output_type": "stream",
     "text": [
      "Found TEST foreign data for 273 occurencies of object 30, where 273 origined from primesense.\n",
      "destarring as symmetries_continuous\n",
      "273/273 [==============================] - 17s 62ms/step\n"
     ]
    }
   ],
   "source": [
    "def totuplething(x1, x2, x4, x7):\n",
    "    return ((x1, x2, x4, x7), x7)\n",
    "\n",
    "for oiu in range(1,31):\n",
    "    model_info = load_model_info(dataset_path, oiu, verbose=1)\n",
    "\n",
    "    trained_cnn = tf.keras.models.load_model(f'{dataset_path}/saved_models/csl_o{oiu}_trainable_layers')\n",
    "\n",
    "    rgb_input, depth_input, cam_K, coord_K = trained_cnn.inputs\n",
    "    star_representation, dash_representation, w_px, w_d, seg = trained_cnn.outputs\n",
    "\n",
    "    segmentation = Lambda(lambda x: tf.cast(x>0.75, x.dtype))(seg)\n",
    "    w_px = Lambda(lambda x: x[0][...,tf.newaxis,:] * x[1][...,tf.newaxis])([w_px, segmentation])\n",
    "    w_d = Lambda(lambda x: x[0][...,tf.newaxis,:] * x[1][...,tf.newaxis])([w_d, segmentation])\n",
    "\n",
    "    po_image = PODestarisation(model_info,amount_of_instances = 1)(star_representation, dash_representation, segmentation)\n",
    "    po_image = Lambda(lambda x: x[0][...,tf.newaxis,:] * x[1][...,tf.newaxis])([po_image, segmentation])\n",
    "    MtM = MtMCreation(\"po\", strides)((po_image, w_px, cam_K, coord_K))\n",
    "    pred_T_, pred_Omega = MtMEvaluation()(MtM)\n",
    "\n",
    "    depth = Lambda(lambda x: x[:,::strides,::strides])(depth_input)\n",
    "    MtM_d = MtMCreation(\"depth\")((po_image, depth , w_d))\n",
    "    pred_T_d, pred_Omega = MtMEvaluation()(tf.keras.layers.Add()([MtM, MtM_d]))\n",
    "\n",
    "    pred_model = tf.keras.Model(trained_cnn.inputs, (pred_T_, pred_T_d))\n",
    "\n",
    "    test_foreign_data = DataLoader.load_foreign_data([f'{dataset_path}/{d}' for d in test ], foreign_info, oiu)\n",
    "    print(f'Found TEST foreign data for {len(test_foreign_data)} occurencies of object {oiu}, where {len([d for d in test_foreign_data if \"primesense\" in d[\"root\"]])} origined from primesense.')\n",
    "\n",
    "    res = pred_model.predict(DataLoader.Dataset(test_foreign_data,xyDim, test_mode=True).batch(1).prefetch(20).map(totuplething), verbose=1)\n",
    "\n",
    "    rowwisestr = 'scene_id,im_id,obj_id,score,R,t,time\\n'\n",
    "    rowwisestr_d = 'scene_id,im_id,obj_id,score,R,t,time\\n'\n",
    "    for tdi, td in enumerate(test_foreign_data):\n",
    "        pose_ = res[0][tdi][0]\n",
    "        pose_d = res[1][tdi][0]\n",
    "        rowwisestr += f'{int(td[\"root\"][-6:])},{int(td[\"file_name\"])},{oiu},0.5,{\" \".join(list(pose_[:3,:3].flatten().astype(str)))},{\" \".join(list(pose_[:3,3].flatten().astype(str)))},-1\\n'\n",
    "        rowwisestr_d += f'{int(td[\"root\"][-6:])},{int(td[\"file_name\"])},{oiu},0.5,{\" \".join(list(pose_d[:3,:3].flatten().astype(str)))},{\" \".join(list(pose_d[:3,3].flatten().astype(str)))},-1\\n'\n",
    "    \n",
    "    f = open(f\"{results_path}/new-paper-{oiu}-cosypose-frame-rgb_tless-test.csv\",\"w\")\n",
    "    f.write(rowwisestr)\n",
    "    f.close()\n",
    "\n",
    "    f = open(f\"{results_path}/new-paper-{oiu}-cosypose-frame-rgb-d_tless-test.csv\",\"w\")\n",
    "    f.write(rowwisestr_d)\n",
    "    f.close()"
   ]
  },
  {
   "cell_type": "code",
   "execution_count": 5,
   "metadata": {},
   "outputs": [],
   "source": [
    "combined_results = 'scene_id,im_id,obj_id,score,R,t,time\\n'\n",
    "for oiu in range(1,31):\n",
    "    f = open(f\"{results_path}/new-paper-{oiu}-cosypose-frame-rgb_tless-test.csv\",\"r\")\n",
    "    combined_results += f.read()[len('scene_id,im_id,obj_id,score,R,t,time\\n'):]\n",
    "    f.close()\n",
    "    \n",
    "f = open(f\"{results_path}/new-paper-1-30-cosypose-frame-rgb_tless-test.csv\",\"w\")\n",
    "f.write(combined_results)\n",
    "f.close()\n",
    "\n",
    "combined_results = 'scene_id,im_id,obj_id,score,R,t,time\\n'\n",
    "for oiu in range(1,31):\n",
    "    f = open(f\"{results_path}/new-paper-{oiu}-cosypose-frame-rgb-d_tless-test.csv\",\"r\")\n",
    "    combined_results += f.read()[len('scene_id,im_id,obj_id,score,R,t,time\\n'):]\n",
    "    f.close()\n",
    "    \n",
    "f = open(f\"{results_path}/new-paper-1-30-cosypose-frame-rgb-d_tless-test.csv\",\"w\")\n",
    "f.write(combined_results)\n",
    "f.close()\n",
    "        "
   ]
  }
 ],
 "metadata": {
  "kernelspec": {
   "display_name": "Python 3",
   "language": "python",
   "name": "python3"
  },
  "language_info": {
   "codemirror_mode": {
    "name": "ipython",
    "version": 3
   },
   "file_extension": ".py",
   "mimetype": "text/x-python",
   "name": "python",
   "nbconvert_exporter": "python",
   "pygments_lexer": "ipython3",
   "version": "3.6.9"
  }
 },
 "nbformat": 4,
 "nbformat_minor": 2
}
