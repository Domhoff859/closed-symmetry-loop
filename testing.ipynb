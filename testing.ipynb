{
 "cells": [
  {
   "cell_type": "code",
   "execution_count": 13,
   "metadata": {},
   "outputs": [
    {
     "name": "stdout",
     "output_type": "stream",
     "text": [
      "Dataset path:   /tf/notebooks/datasets/tless\n",
      "GPUs Available: [PhysicalDevice(name='/physical_device:GPU:0', device_type='GPU')]\n"
     ]
    }
   ],
   "source": [
    "import tensorflow as tf\n",
    "\n",
    "from network.cnn_definition_paper import rgb255_to_obj_net \n",
    "from keras.layers import Lambda\n",
    "\n",
    "from xnp.xnp_tf_layers import MtMCreation, MtMEvaluation\n",
    "from reverse_op import PODestarisation\n",
    "\n",
    "from data_handling.model_info import load_model_info\n",
    "from data_handling import DataLoader\n",
    "\n",
    "bop_path  = '/tf/notebooks/datasets'\n",
    "dataset = 'tless'\n",
    "dataset_path = f'{bop_path}/{dataset}'\n",
    "\n",
    "print(f'Dataset path:   {dataset_path}')\n",
    "print(f'GPUs Available: {tf.config.list_physical_devices(\"GPU\")}')\n",
    "\n",
    "results_path = 'results'\n",
    "\n",
    "foreign_info = 'scene_maskrcnn_detections_syn+real_info.json'\n",
    "\n",
    "test = ['test_primesense']\n",
    "\n",
    "xyDim = 112\n",
    "strides = 2\n",
    "\n",
    "root_dir = [f'{dataset_path}/{d}' for d in test]\n",
    "\n",
    "\n",
    "# import json\n",
    "# import os\n",
    "\n",
    "# foreign_info_path = f'{dataset_path}/bop23_default_detections_for_task1/gdrnppdet-pbrreal/gdrnppdet-pbrreal_tless-test_e112ecb4-7f56-4107-8a21-945bc7661267.json'\n",
    "# with open(foreign_info_path, 'r') as f:\n",
    "#     foreign_info_data = json.load(f)\n",
    "\n",
    "# for rd in root_dir:\n",
    "#     for root, sub_dirs, files in os.walk(rd):\n",
    "#         for sd in sub_dirs:\n",
    "#             dir = f'{root}/{sd}'\n",
    "#             scene_foreign_info = f'{dir}/{foreign_info}'\n",
    "                \n",
    "#             filtered_data = [entry for entry in foreign_info_data if entry['scene_id'] == int(sd)]\n",
    "#             with open(scene_foreign_info, 'w') as f:\n",
    "#                 json.dump(filtered_data, f, indent=4)\n",
    "#         break"
   ]
  },
  {
   "cell_type": "code",
   "execution_count": 20,
   "metadata": {
    "scrolled": true
   },
   "outputs": [
    {
     "name": "stdout",
     "output_type": "stream",
     "text": [
      "model_info for object 1:\n",
      "diameter : 63.5151\n",
      "mins : [-17.4958 -17.4958 -30.6   ]\n",
      "maxs : [17.4958 17.4958 30.6   ]\n",
      "symmetries_discrete : []\n",
      "symmetries_continuous : True\n",
      "WARNING:tensorflow:No training configuration found in save file, so the model was *not* compiled. Compile it manually.\n",
      "destarring as symmetries_continuous\n"
     ]
    },
    {
     "name": "stderr",
     "output_type": "stream",
     "text": [
      "100%|██████████| 20/20 [00:00<00:00, 130.81it/s]\n"
     ]
    },
    {
     "name": "stdout",
     "output_type": "stream",
     "text": [
      "/tf/notebooks/datasets/tless/test_primesense/000017/scene_maskrcnn_detections_syn+real_info.json\n",
      "/tf/notebooks/datasets/tless/test_primesense/000009/scene_maskrcnn_detections_syn+real_info.json\n",
      "/tf/notebooks/datasets/tless/test_primesense/000015/scene_maskrcnn_detections_syn+real_info.json\n",
      "/tf/notebooks/datasets/tless/test_primesense/000002/scene_maskrcnn_detections_syn+real_info.json\n",
      "/tf/notebooks/datasets/tless/test_primesense/000018/scene_maskrcnn_detections_syn+real_info.json\n",
      "/tf/notebooks/datasets/tless/test_primesense/000006/scene_maskrcnn_detections_syn+real_info.json\n",
      "/tf/notebooks/datasets/tless/test_primesense/000011/scene_maskrcnn_detections_syn+real_info.json\n",
      "/tf/notebooks/datasets/tless/test_primesense/000005/scene_maskrcnn_detections_syn+real_info.json\n",
      "/tf/notebooks/datasets/tless/test_primesense/000016/scene_maskrcnn_detections_syn+real_info.json\n",
      "/tf/notebooks/datasets/tless/test_primesense/000014/scene_maskrcnn_detections_syn+real_info.json\n",
      "/tf/notebooks/datasets/tless/test_primesense/000019/scene_maskrcnn_detections_syn+real_info.json\n",
      "/tf/notebooks/datasets/tless/test_primesense/000010/scene_maskrcnn_detections_syn+real_info.json\n",
      "/tf/notebooks/datasets/tless/test_primesense/000012/scene_maskrcnn_detections_syn+real_info.json\n",
      "/tf/notebooks/datasets/tless/test_primesense/000003/scene_maskrcnn_detections_syn+real_info.json\n",
      "/tf/notebooks/datasets/tless/test_primesense/000008/scene_maskrcnn_detections_syn+real_info.json\n",
      "/tf/notebooks/datasets/tless/test_primesense/000004/scene_maskrcnn_detections_syn+real_info.json\n",
      "/tf/notebooks/datasets/tless/test_primesense/000013/scene_maskrcnn_detections_syn+real_info.json\n",
      "/tf/notebooks/datasets/tless/test_primesense/000007/scene_maskrcnn_detections_syn+real_info.json\n",
      "/tf/notebooks/datasets/tless/test_primesense/000001/scene_maskrcnn_detections_syn+real_info.json\n",
      "/tf/notebooks/datasets/tless/test_primesense/000020/scene_maskrcnn_detections_syn+real_info.json\n",
      "Found TEST foreign data for 6760 occurencies of object 1, where 6760 origined from primesense.\n",
      "6760/6760 [==============================] - 81s 12ms/step\n"
     ]
    },
    {
     "ename": "IndexError",
     "evalue": "index 3 is out of bounds for axis 1 with size 3",
     "output_type": "error",
     "traceback": [
      "\u001b[0;31m---------------------------------------------------------------------------\u001b[0m",
      "\u001b[0;31mIndexError\u001b[0m                                Traceback (most recent call last)",
      "Cell \u001b[0;32mIn[20], line 37\u001b[0m\n\u001b[1;32m     35\u001b[0m     pose_ \u001b[38;5;241m=\u001b[39m res[\u001b[38;5;241m0\u001b[39m][tdi][\u001b[38;5;241m0\u001b[39m]\n\u001b[1;32m     36\u001b[0m     pose_d \u001b[38;5;241m=\u001b[39m res[\u001b[38;5;241m1\u001b[39m][tdi][\u001b[38;5;241m0\u001b[39m]\n\u001b[0;32m---> 37\u001b[0m     rowwisestr \u001b[38;5;241m+\u001b[39m\u001b[38;5;241m=\u001b[39m \u001b[38;5;124mf\u001b[39m\u001b[38;5;124m'\u001b[39m\u001b[38;5;132;01m{\u001b[39;00m\u001b[38;5;28mint\u001b[39m(td[\u001b[38;5;124m\"\u001b[39m\u001b[38;5;124mroot\u001b[39m\u001b[38;5;124m\"\u001b[39m][\u001b[38;5;241m-\u001b[39m\u001b[38;5;241m6\u001b[39m:])\u001b[38;5;132;01m}\u001b[39;00m\u001b[38;5;124m,\u001b[39m\u001b[38;5;132;01m{\u001b[39;00m\u001b[38;5;28mint\u001b[39m(td[\u001b[38;5;124m\"\u001b[39m\u001b[38;5;124mfile_name\u001b[39m\u001b[38;5;124m\"\u001b[39m])\u001b[38;5;132;01m}\u001b[39;00m\u001b[38;5;124m,\u001b[39m\u001b[38;5;132;01m{\u001b[39;00moiu\u001b[38;5;132;01m}\u001b[39;00m\u001b[38;5;124m,0.5,\u001b[39m\u001b[38;5;132;01m{\u001b[39;00m\u001b[38;5;124m\"\u001b[39m\u001b[38;5;124m \u001b[39m\u001b[38;5;124m\"\u001b[39m\u001b[38;5;241m.\u001b[39mjoin(\u001b[38;5;28mlist\u001b[39m(pose_[:\u001b[38;5;241m3\u001b[39m,:\u001b[38;5;241m3\u001b[39m]\u001b[38;5;241m.\u001b[39mflatten()\u001b[38;5;241m.\u001b[39mastype(\u001b[38;5;28mstr\u001b[39m)))\u001b[38;5;132;01m}\u001b[39;00m\u001b[38;5;124m,\u001b[39m\u001b[38;5;132;01m{\u001b[39;00m\u001b[38;5;124m\"\u001b[39m\u001b[38;5;124m \u001b[39m\u001b[38;5;124m\"\u001b[39m\u001b[38;5;241m.\u001b[39mjoin(\u001b[38;5;28mlist\u001b[39m(\u001b[43mpose_\u001b[49m\u001b[43m[\u001b[49m\u001b[43m:\u001b[49m\u001b[38;5;241;43m3\u001b[39;49m\u001b[43m,\u001b[49m\u001b[38;5;241;43m3\u001b[39;49m\u001b[43m]\u001b[49m\u001b[38;5;241m.\u001b[39mflatten()\u001b[38;5;241m.\u001b[39mastype(\u001b[38;5;28mstr\u001b[39m)))\u001b[38;5;132;01m}\u001b[39;00m\u001b[38;5;124m,-1\u001b[39m\u001b[38;5;130;01m\\n\u001b[39;00m\u001b[38;5;124m'\u001b[39m\n\u001b[1;32m     38\u001b[0m     rowwisestr_d \u001b[38;5;241m+\u001b[39m\u001b[38;5;241m=\u001b[39m \u001b[38;5;124mf\u001b[39m\u001b[38;5;124m'\u001b[39m\u001b[38;5;132;01m{\u001b[39;00m\u001b[38;5;28mint\u001b[39m(td[\u001b[38;5;124m\"\u001b[39m\u001b[38;5;124mroot\u001b[39m\u001b[38;5;124m\"\u001b[39m][\u001b[38;5;241m-\u001b[39m\u001b[38;5;241m6\u001b[39m:])\u001b[38;5;132;01m}\u001b[39;00m\u001b[38;5;124m,\u001b[39m\u001b[38;5;132;01m{\u001b[39;00m\u001b[38;5;28mint\u001b[39m(td[\u001b[38;5;124m\"\u001b[39m\u001b[38;5;124mfile_name\u001b[39m\u001b[38;5;124m\"\u001b[39m])\u001b[38;5;132;01m}\u001b[39;00m\u001b[38;5;124m,\u001b[39m\u001b[38;5;132;01m{\u001b[39;00moiu\u001b[38;5;132;01m}\u001b[39;00m\u001b[38;5;124m,0.5,\u001b[39m\u001b[38;5;132;01m{\u001b[39;00m\u001b[38;5;124m\"\u001b[39m\u001b[38;5;124m \u001b[39m\u001b[38;5;124m\"\u001b[39m\u001b[38;5;241m.\u001b[39mjoin(\u001b[38;5;28mlist\u001b[39m(pose_d[:\u001b[38;5;241m3\u001b[39m,:\u001b[38;5;241m3\u001b[39m]\u001b[38;5;241m.\u001b[39mflatten()\u001b[38;5;241m.\u001b[39mastype(\u001b[38;5;28mstr\u001b[39m)))\u001b[38;5;132;01m}\u001b[39;00m\u001b[38;5;124m,\u001b[39m\u001b[38;5;132;01m{\u001b[39;00m\u001b[38;5;124m\"\u001b[39m\u001b[38;5;124m \u001b[39m\u001b[38;5;124m\"\u001b[39m\u001b[38;5;241m.\u001b[39mjoin(\u001b[38;5;28mlist\u001b[39m(pose_d[:\u001b[38;5;241m3\u001b[39m,\u001b[38;5;241m3\u001b[39m]\u001b[38;5;241m.\u001b[39mflatten()\u001b[38;5;241m.\u001b[39mastype(\u001b[38;5;28mstr\u001b[39m)))\u001b[38;5;132;01m}\u001b[39;00m\u001b[38;5;124m,-1\u001b[39m\u001b[38;5;130;01m\\n\u001b[39;00m\u001b[38;5;124m'\u001b[39m\n\u001b[1;32m     40\u001b[0m f \u001b[38;5;241m=\u001b[39m \u001b[38;5;28mopen\u001b[39m(\u001b[38;5;124mf\u001b[39m\u001b[38;5;124m\"\u001b[39m\u001b[38;5;132;01m{\u001b[39;00mresults_path\u001b[38;5;132;01m}\u001b[39;00m\u001b[38;5;124m/new-paper-\u001b[39m\u001b[38;5;132;01m{\u001b[39;00moiu\u001b[38;5;132;01m}\u001b[39;00m\u001b[38;5;124m-cosypose-frame-rgb_tless-test.csv\u001b[39m\u001b[38;5;124m\"\u001b[39m,\u001b[38;5;124m\"\u001b[39m\u001b[38;5;124mw\u001b[39m\u001b[38;5;124m\"\u001b[39m)\n",
      "\u001b[0;31mIndexError\u001b[0m: index 3 is out of bounds for axis 1 with size 3"
     ]
    }
   ],
   "source": [
    "def totuplething(x1, x2, x4, x7):\n",
    "    return ((x1, x2, x4, x7), x7)\n",
    "\n",
    "for oiu in range(1,2):\n",
    "    model_info = load_model_info(dataset_path, oiu, verbose=1)\n",
    "\n",
    "    trained_cnn = tf.keras.models.load_model(f'{dataset_path}/saved_models/csl_o{oiu}_trainable_layers')\n",
    "\n",
    "    rgb_input, depth_input, cam_K, coord_K = trained_cnn.inputs\n",
    "    star_representation, dash_representation, w_px, w_d, seg = trained_cnn.outputs\n",
    "\n",
    "    segmentation = Lambda(lambda x: tf.cast(x>0.75, x.dtype))(seg)\n",
    "    w_px = Lambda(lambda x: x[0][...,tf.newaxis,:] * x[1][...,tf.newaxis])([w_px, segmentation])\n",
    "    w_d = Lambda(lambda x: x[0][...,tf.newaxis,:] * x[1][...,tf.newaxis])([w_d, segmentation])\n",
    "\n",
    "    po_image = PODestarisation(model_info,amount_of_instances = 1)(star_representation, dash_representation, segmentation)\n",
    "    po_image = Lambda(lambda x: x[0][...,tf.newaxis,:] * x[1][...,tf.newaxis])([po_image, segmentation])\n",
    "    MtM = MtMCreation(\"po\", strides)((po_image, w_px, cam_K, coord_K))\n",
    "    pred_T_, pred_Omega = MtMEvaluation()(MtM)\n",
    "\n",
    "    depth = Lambda(lambda x: x[:,::strides,::strides])(depth_input)\n",
    "    MtM_d = MtMCreation(\"depth\")((po_image, depth , w_d))\n",
    "    pred_T_d, pred_Omega = MtMEvaluation()(tf.keras.layers.Add()([MtM, MtM_d]))\n",
    "\n",
    "    #pred_model = tf.keras.Model(trained_cnn.inputs, (pred_T_, pred_T_d))\n",
    "    pred_model = tf.keras.Model(trained_cnn.inputs, (rgb_input, star_representation, dash_representation, segmentation))\n",
    "\n",
    "    test_foreign_data = DataLoader.load_foreign_data([f'{dataset_path}/{d}' for d in test ], foreign_info, oiu)\n",
    "    print(f'Found TEST foreign data for {len(test_foreign_data)} occurencies of object {oiu}, where {len([d for d in test_foreign_data if \"primesense\" in d[\"root\"]])} origined from primesense.')\n",
    "\n",
    "    res = pred_model.predict(DataLoader.Dataset(test_foreign_data, xyDim, test_mode=True).batch(1).prefetch(20).map(totuplething), verbose=1)\n",
    "\n",
    "    rowwisestr = 'scene_id,im_id,obj_id,score,R,t,time\\n'\n",
    "    rowwisestr_d = 'scene_id,im_id,obj_id,score,R,t,time\\n'\n",
    "    for tdi, td in enumerate(test_foreign_data):\n",
    "        pose_ = res[0][tdi][0]\n",
    "        pose_d = res[1][tdi][0]\n",
    "        rowwisestr += f'{int(td[\"root\"][-6:])},{int(td[\"file_name\"])},{oiu},0.5,{\" \".join(list(pose_[:3,:3].flatten().astype(str)))},{\" \".join(list(pose_[:3,3].flatten().astype(str)))},-1\\n'\n",
    "        rowwisestr_d += f'{int(td[\"root\"][-6:])},{int(td[\"file_name\"])},{oiu},0.5,{\" \".join(list(pose_d[:3,:3].flatten().astype(str)))},{\" \".join(list(pose_d[:3,3].flatten().astype(str)))},-1\\n'\n",
    "    \n",
    "    f = open(f\"{results_path}/new-paper-{oiu}-cosypose-frame-rgb_tless-test.csv\",\"w\")\n",
    "    f.write(rowwisestr)\n",
    "    f.close()\n",
    "\n",
    "    f = open(f\"{results_path}/new-paper-{oiu}-cosypose-frame-rgb-d_tless-test.csv\",\"w\")\n",
    "    f.write(rowwisestr_d)\n",
    "    f.close()"
   ]
  },
  {
   "cell_type": "code",
   "execution_count": 21,
   "metadata": {},
   "outputs": [],
   "source": [
    "import numpy as np\n",
    "np.save(\"rgb_input.npy\", res[0])\n",
    "np.save(\"star.npy\", res[1])\n",
    "np.save(\"dash.npy\", res[2])\n",
    "np.save(\"seg.npy\", res[3])"
   ]
  },
  {
   "cell_type": "code",
   "execution_count": null,
   "metadata": {},
   "outputs": [],
   "source": [
    "combined_results = 'scene_id,im_id,obj_id,score,R,t,time\\n'\n",
    "for oiu in range(1,31):\n",
    "    f = open(f\"{results_path}/new-paper-{oiu}-cosypose-frame-rgb_tless-test.csv\",\"r\")\n",
    "    combined_results += f.read()[len('scene_id,im_id,obj_id,score,R,t,time\\n'):]\n",
    "    f.close()\n",
    "    \n",
    "f = open(f\"{results_path}/new-paper-1-30-cosypose-frame-rgb_tless-test.csv\",\"w\")\n",
    "f.write(combined_results)\n",
    "f.close()\n",
    "\n",
    "combined_results = 'scene_id,im_id,obj_id,score,R,t,time\\n'\n",
    "for oiu in range(1,31):\n",
    "    f = open(f\"{results_path}/new-paper-{oiu}-cosypose-frame-rgb-d_tless-test.csv\",\"r\")\n",
    "    combined_results += f.read()[len('scene_id,im_id,obj_id,score,R,t,time\\n'):]\n",
    "    f.close()\n",
    "    \n",
    "f = open(f\"{results_path}/new-paper-1-30-cosypose-frame-rgb-d_tless-test.csv\",\"w\")\n",
    "f.write(combined_results)\n",
    "f.close()\n",
    "        "
   ]
  }
 ],
 "metadata": {
  "kernelspec": {
   "display_name": "Python 3 (ipykernel)",
   "language": "python",
   "name": "python3"
  },
  "language_info": {
   "codemirror_mode": {
    "name": "ipython",
    "version": 3
   },
   "file_extension": ".py",
   "mimetype": "text/x-python",
   "name": "python",
   "nbconvert_exporter": "python",
   "pygments_lexer": "ipython3",
   "version": "3.11.0rc1"
  }
 },
 "nbformat": 4,
 "nbformat_minor": 4
}
